{
 "cells": [
  {
   "cell_type": "markdown",
   "metadata": {},
   "source": [
    "# Karnataka Agriculture Prediction"
   ]
  },
  {
   "cell_type": "markdown",
   "metadata": {},
   "source": [
    "### Probelm Statement"
   ]
  },
  {
   "cell_type": "markdown",
   "metadata": {},
   "source": [
    "Food is one of the basic needs of human beings. It depends on Agricultural Sector and its production. Also, Indian food industries are heavily dependent on agricultural yield production. But due to some poor climatically condition and poor yield production, lots of farmers have gone into suicide in the past. Reportedly, more than 59,000 farmers have attempted suicide over the last 30 years. Now a day’s all are talking about the agricultural field and their production, but no one has come forwarded to help them to increase their productivity. More and more researchers are doing research in the field of the agricultural sector. However, the only minimal effort has been made relevant to this. Most of the agricultural departments have lots of data pertaining to the crop yield in the past. Data in this field are huge and represented in the form of structured/unstructured form. Hence there is a need for an efficient technique to process these data and to discover potential information out to it. By analyzing these data one can discover potential crop by considering climate, season, ph level, soil type and many more. Thus, the proposed system will help the farmer in identifying correct crop to increase the production.  \n",
    "\n"
   ]
  },
  {
   "cell_type": "markdown",
   "metadata": {},
   "source": [
    "### Packages/Concepts Used"
   ]
  },
  {
   "cell_type": "markdown",
   "metadata": {},
   "source": [
    "        * Numpy                * Data Analysis\n",
    "        * Pandas               * Data Visualisation\n",
    "        * Matplotlib           * Splitting data\n",
    "        * Seaborn              * Standardization\n",
    "        * Sklearn              * Feature Selection\n",
    "        * Squarify             * Chi-Squared Test\n",
    "        * Warnings             * Machine Learning\n",
    "                               * A/B Testing\n",
    "                               * Hyper-parameter Tuning\n",
    "                               * Confusion Matrix"
   ]
  },
  {
   "cell_type": "markdown",
   "metadata": {},
   "source": [
    "#### Importing Packages"
   ]
  },
  {
   "cell_type": "code",
   "execution_count": 1,
   "metadata": {},
   "outputs": [],
   "source": [
    "import numpy as np\n",
    "import pandas as pd\n",
    "import matplotlib.pyplot as plt\n",
    "%matplotlib inline\n",
    "import seaborn as sns\n",
    "import squarify\n",
    "import warnings\n",
    "warnings.filterwarnings('ignore')\n",
    "from sklearn.preprocessing import LabelEncoder\n",
    "from sklearn.feature_selection import SelectKBest\n",
    "from sklearn.feature_selection import chi2\n",
    "from sklearn.model_selection import train_test_split\n",
    "from sklearn.preprocessing import StandardScaler\n",
    "from sklearn.linear_model import LogisticRegression\n",
    "from sklearn.svm import SVC\n",
    "from sklearn.model_selection import StratifiedKFold\n",
    "from sklearn.model_selection import GridSearchCV\n",
    "from sklearn.metrics import accuracy_score\n",
    "from sklearn.metrics import confusion_matrix"
   ]
  },
  {
   "cell_type": "code",
   "execution_count": 2,
   "metadata": {},
   "outputs": [],
   "source": [
    "#loading dataset with pandas\n",
    "df=pd.read_excel('final dataset.xlsx')"
   ]
  },
  {
   "cell_type": "code",
   "execution_count": 3,
   "metadata": {},
   "outputs": [
    {
     "data": {
      "text/html": [
       "<div>\n",
       "<style scoped>\n",
       "    .dataframe tbody tr th:only-of-type {\n",
       "        vertical-align: middle;\n",
       "    }\n",
       "\n",
       "    .dataframe tbody tr th {\n",
       "        vertical-align: top;\n",
       "    }\n",
       "\n",
       "    .dataframe thead th {\n",
       "        text-align: right;\n",
       "    }\n",
       "</style>\n",
       "<table border=\"1\" class=\"dataframe\">\n",
       "  <thead>\n",
       "    <tr style=\"text-align: right;\">\n",
       "      <th></th>\n",
       "      <th>year</th>\n",
       "      <th>season</th>\n",
       "      <th>crop</th>\n",
       "      <th>Period of sowing</th>\n",
       "      <th>period of harvesting</th>\n",
       "      <th>Soil Type</th>\n",
       "      <th>Ph-value</th>\n",
       "      <th>Nitrogen(%)</th>\n",
       "      <th>Phosphorus(%)</th>\n",
       "      <th>Pottasium(%)</th>\n",
       "      <th>...</th>\n",
       "      <th>Max Temp in Sowing</th>\n",
       "      <th>Max Temp in Harvesting</th>\n",
       "      <th>Avg Temp in Sowing</th>\n",
       "      <th>Avg Temp in Harvesting</th>\n",
       "      <th>Avg Rainfall in Sowing</th>\n",
       "      <th>Avg Rainfall in Harvesting</th>\n",
       "      <th>area(hectare)</th>\n",
       "      <th>production(Tonnes)</th>\n",
       "      <th>yeild</th>\n",
       "      <th>Class labels</th>\n",
       "    </tr>\n",
       "  </thead>\n",
       "  <tbody>\n",
       "    <tr>\n",
       "      <th>0</th>\n",
       "      <td>1998</td>\n",
       "      <td>Kharif</td>\n",
       "      <td>Jowar</td>\n",
       "      <td>May-July</td>\n",
       "      <td>September-December</td>\n",
       "      <td>black soil</td>\n",
       "      <td>6.0-7.5</td>\n",
       "      <td>47</td>\n",
       "      <td>45</td>\n",
       "      <td>45.0</td>\n",
       "      <td>...</td>\n",
       "      <td>36.7</td>\n",
       "      <td>30.1</td>\n",
       "      <td>31.6</td>\n",
       "      <td>25.1</td>\n",
       "      <td>1.3</td>\n",
       "      <td>9.7</td>\n",
       "      <td>12363</td>\n",
       "      <td>24855.0</td>\n",
       "      <td>2.010</td>\n",
       "      <td>yes</td>\n",
       "    </tr>\n",
       "    <tr>\n",
       "      <th>1</th>\n",
       "      <td>1998</td>\n",
       "      <td>Kharif</td>\n",
       "      <td>Cotton</td>\n",
       "      <td>May-July</td>\n",
       "      <td>December-April</td>\n",
       "      <td>black soil</td>\n",
       "      <td>7.0-8.0</td>\n",
       "      <td>7</td>\n",
       "      <td>14</td>\n",
       "      <td>11.0</td>\n",
       "      <td>...</td>\n",
       "      <td>22.0</td>\n",
       "      <td>-1.4</td>\n",
       "      <td>14.8</td>\n",
       "      <td>-7.7</td>\n",
       "      <td>92.3</td>\n",
       "      <td>29.2</td>\n",
       "      <td>15225</td>\n",
       "      <td>22129.0</td>\n",
       "      <td>1.453</td>\n",
       "      <td>no</td>\n",
       "    </tr>\n",
       "    <tr>\n",
       "      <th>2</th>\n",
       "      <td>1998</td>\n",
       "      <td>Kharif</td>\n",
       "      <td>Rice</td>\n",
       "      <td>May-September</td>\n",
       "      <td>October-January</td>\n",
       "      <td>red soil</td>\n",
       "      <td>5.0-8.0</td>\n",
       "      <td>35</td>\n",
       "      <td>35</td>\n",
       "      <td>34.4</td>\n",
       "      <td>...</td>\n",
       "      <td>32.6</td>\n",
       "      <td>18.5</td>\n",
       "      <td>26.3</td>\n",
       "      <td>12.0</td>\n",
       "      <td>80.6</td>\n",
       "      <td>77.2</td>\n",
       "      <td>197</td>\n",
       "      <td>316.0</td>\n",
       "      <td>1.604</td>\n",
       "      <td>no</td>\n",
       "    </tr>\n",
       "    <tr>\n",
       "      <th>3</th>\n",
       "      <td>1998</td>\n",
       "      <td>Rabi</td>\n",
       "      <td>Jowar</td>\n",
       "      <td>September-October</td>\n",
       "      <td>January-March</td>\n",
       "      <td>black soil</td>\n",
       "      <td>6.0-7.5</td>\n",
       "      <td>47</td>\n",
       "      <td>45</td>\n",
       "      <td>45.0</td>\n",
       "      <td>...</td>\n",
       "      <td>34.1</td>\n",
       "      <td>24.0</td>\n",
       "      <td>29.1</td>\n",
       "      <td>19.1</td>\n",
       "      <td>1.5</td>\n",
       "      <td>39.3</td>\n",
       "      <td>152540</td>\n",
       "      <td>120840.0</td>\n",
       "      <td>0.792</td>\n",
       "      <td>no</td>\n",
       "    </tr>\n",
       "    <tr>\n",
       "      <th>4</th>\n",
       "      <td>1998</td>\n",
       "      <td>Kharif</td>\n",
       "      <td>Cotton</td>\n",
       "      <td>May-July</td>\n",
       "      <td>December-April</td>\n",
       "      <td>black soil</td>\n",
       "      <td>7.0-8.0</td>\n",
       "      <td>7</td>\n",
       "      <td>14</td>\n",
       "      <td>11.0</td>\n",
       "      <td>...</td>\n",
       "      <td>22.0</td>\n",
       "      <td>-1.4</td>\n",
       "      <td>14.8</td>\n",
       "      <td>-7.7</td>\n",
       "      <td>92.3</td>\n",
       "      <td>29.2</td>\n",
       "      <td>11979</td>\n",
       "      <td>18434.0</td>\n",
       "      <td>1.538</td>\n",
       "      <td>no</td>\n",
       "    </tr>\n",
       "  </tbody>\n",
       "</table>\n",
       "<p>5 rows × 23 columns</p>\n",
       "</div>"
      ],
      "text/plain": [
       "   year  season    crop   Period of sowing period of harvesting   Soil Type  \\\n",
       "0  1998  Kharif   Jowar           May-July   September-December  black soil   \n",
       "1  1998  Kharif  Cotton           May-July       December-April  black soil   \n",
       "2  1998  Kharif    Rice      May-September      October-January    red soil   \n",
       "3  1998    Rabi   Jowar  September-October        January-March  black soil   \n",
       "4  1998  Kharif  Cotton           May-July       December-April  black soil   \n",
       "\n",
       "  Ph-value  Nitrogen(%)  Phosphorus(%)  Pottasium(%)      ...       \\\n",
       "0  6.0-7.5           47             45          45.0      ...        \n",
       "1  7.0-8.0            7             14          11.0      ...        \n",
       "2  5.0-8.0           35             35          34.4      ...        \n",
       "3  6.0-7.5           47             45          45.0      ...        \n",
       "4  7.0-8.0            7             14          11.0      ...        \n",
       "\n",
       "  Max Temp in Sowing  Max Temp in Harvesting  Avg Temp in Sowing  \\\n",
       "0               36.7                    30.1                31.6   \n",
       "1               22.0                    -1.4                14.8   \n",
       "2               32.6                    18.5                26.3   \n",
       "3               34.1                    24.0                29.1   \n",
       "4               22.0                    -1.4                14.8   \n",
       "\n",
       "   Avg Temp in Harvesting  Avg Rainfall in Sowing  Avg Rainfall in Harvesting  \\\n",
       "0                    25.1                     1.3                         9.7   \n",
       "1                    -7.7                    92.3                        29.2   \n",
       "2                    12.0                    80.6                        77.2   \n",
       "3                    19.1                     1.5                        39.3   \n",
       "4                    -7.7                    92.3                        29.2   \n",
       "\n",
       "   area(hectare)  production(Tonnes)  yeild  Class labels  \n",
       "0          12363             24855.0  2.010           yes  \n",
       "1          15225             22129.0  1.453            no  \n",
       "2            197               316.0  1.604            no  \n",
       "3         152540            120840.0  0.792            no  \n",
       "4          11979             18434.0  1.538            no  \n",
       "\n",
       "[5 rows x 23 columns]"
      ]
     },
     "execution_count": 3,
     "metadata": {},
     "output_type": "execute_result"
    }
   ],
   "source": [
    "df.head()"
   ]
  },
  {
   "cell_type": "code",
   "execution_count": 4,
   "metadata": {},
   "outputs": [
    {
     "data": {
      "text/plain": [
       "Index(['year', 'season', 'crop', 'Period of sowing', 'period of harvesting',\n",
       "       'Soil Type', 'Ph-value', 'Nitrogen(%)', 'Phosphorus(%)', 'Pottasium(%)',\n",
       "       'Water Consumption(mm)', 'Min Temp in Sowing', 'Min Temp in Harvesting',\n",
       "       'Max Temp in Sowing', 'Max Temp in Harvesting', 'Avg Temp in Sowing',\n",
       "       'Avg Temp in Harvesting', 'Avg Rainfall in Sowing',\n",
       "       'Avg Rainfall in Harvesting', 'area(hectare)', 'production(Tonnes)',\n",
       "       'yeild', 'Class labels'],\n",
       "      dtype='object')"
      ]
     },
     "execution_count": 4,
     "metadata": {},
     "output_type": "execute_result"
    }
   ],
   "source": [
    "df.columns"
   ]
  },
  {
   "cell_type": "markdown",
   "metadata": {},
   "source": [
    "#### Data - Preprocessing"
   ]
  },
  {
   "cell_type": "code",
   "execution_count": 5,
   "metadata": {},
   "outputs": [
    {
     "data": {
      "text/plain": [
       " 20.1    75\n",
       " 5.6     75\n",
       " 4.3     75\n",
       "-13.9    55\n",
       " 18.0    27\n",
       "-10.5    20\n",
       " 25.0    18\n",
       "Name: Min Temp in Harvesting, dtype: int64"
      ]
     },
     "execution_count": 5,
     "metadata": {},
     "output_type": "execute_result"
    }
   ],
   "source": [
    "#getting rid of negative values as it needs to be termed in positive figures for model prediction\n",
    "df[\"Min Temp in Harvesting\"].value_counts()"
   ]
  },
  {
   "cell_type": "code",
   "execution_count": 6,
   "metadata": {},
   "outputs": [],
   "source": [
    "df['Min Temp in Harvesting']=df['Min Temp in Harvesting'].replace(\n",
    "{\n",
    "    -10.5 : 1\n",
    "}\n",
    ")"
   ]
  },
  {
   "cell_type": "code",
   "execution_count": 7,
   "metadata": {},
   "outputs": [],
   "source": [
    "df['Min Temp in Harvesting']=df['Min Temp in Harvesting'].replace(\n",
    "{\n",
    "    -13.9 : 0\n",
    "}\n",
    ")"
   ]
  },
  {
   "cell_type": "code",
   "execution_count": 8,
   "metadata": {},
   "outputs": [
    {
     "data": {
      "text/plain": [
       " 19.1    75\n",
       " 25.1    75\n",
       " 12.0    75\n",
       "-7.7     55\n",
       " 24.1    27\n",
       "-40.6    20\n",
       " 30.2    18\n",
       "Name: Avg Temp in Harvesting, dtype: int64"
      ]
     },
     "execution_count": 8,
     "metadata": {},
     "output_type": "execute_result"
    }
   ],
   "source": [
    "df['Avg Temp in Harvesting'].value_counts()"
   ]
  },
  {
   "cell_type": "code",
   "execution_count": 9,
   "metadata": {},
   "outputs": [],
   "source": [
    "#df[df['Avg Temp in Harvesting']<-35]=0\n",
    "#df[df['Avg Temp in Harvesting']<0]=1\n",
    "df['Avg Temp in Harvesting']=df['Avg Temp in Harvesting'].replace(\n",
    "{\n",
    "    -7.7 : 1\n",
    "}\n",
    ")"
   ]
  },
  {
   "cell_type": "code",
   "execution_count": 10,
   "metadata": {},
   "outputs": [],
   "source": [
    "df['Avg Temp in Harvesting']=df['Avg Temp in Harvesting'].replace(\n",
    "{\n",
    "    -40.6 : 0\n",
    "}\n",
    ")"
   ]
  },
  {
   "cell_type": "code",
   "execution_count": 11,
   "metadata": {},
   "outputs": [
    {
     "data": {
      "text/plain": [
       "dtype('float64')"
      ]
     },
     "execution_count": 11,
     "metadata": {},
     "output_type": "execute_result"
    }
   ],
   "source": [
    "df['Avg Temp in Harvesting'].dtype"
   ]
  },
  {
   "cell_type": "code",
   "execution_count": 12,
   "metadata": {},
   "outputs": [
    {
     "data": {
      "text/plain": [
       "29.1    75\n",
       "31.6    75\n",
       "26.3    75\n",
       "14.8    55\n",
       "10.1    27\n",
       "14.5    20\n",
       "19.1    18\n",
       "Name: Avg Temp in Sowing, dtype: int64"
      ]
     },
     "execution_count": 12,
     "metadata": {},
     "output_type": "execute_result"
    }
   ],
   "source": [
    "df['Avg Temp in Sowing'].value_counts()"
   ]
  },
  {
   "cell_type": "code",
   "execution_count": 13,
   "metadata": {},
   "outputs": [
    {
     "data": {
      "text/plain": [
       " 30.1    95\n",
       " 18.5    79\n",
       "-1.4     55\n",
       " 24.0    55\n",
       " 26.8    23\n",
       " 2.4     20\n",
       " 35.4    18\n",
       "Name: Max Temp in Harvesting, dtype: int64"
      ]
     },
     "execution_count": 13,
     "metadata": {},
     "output_type": "execute_result"
    }
   ],
   "source": [
    "df['Max Temp in Harvesting'].value_counts()"
   ]
  },
  {
   "cell_type": "code",
   "execution_count": 14,
   "metadata": {},
   "outputs": [],
   "source": [
    "df['Max Temp in Harvesting']=df['Avg Temp in Harvesting'].replace(\n",
    "{\n",
    "    -1.4 : 1\n",
    "}\n",
    ")"
   ]
  },
  {
   "cell_type": "code",
   "execution_count": null,
   "metadata": {},
   "outputs": [],
   "source": []
  },
  {
   "cell_type": "code",
   "execution_count": 15,
   "metadata": {},
   "outputs": [
    {
     "data": {
      "text/plain": [
       "(345,)"
      ]
     },
     "execution_count": 15,
     "metadata": {},
     "output_type": "execute_result"
    }
   ],
   "source": [
    "df['Avg Temp in Harvesting'].shape"
   ]
  },
  {
   "cell_type": "code",
   "execution_count": 16,
   "metadata": {},
   "outputs": [
    {
     "data": {
      "text/plain": [
       "0    350-650\n",
       "1    550-950\n",
       "2    300-950\n",
       "3    350-650\n",
       "4    550-950\n",
       "Name: Water Consumption(mm), dtype: object"
      ]
     },
     "execution_count": 16,
     "metadata": {},
     "output_type": "execute_result"
    }
   ],
   "source": [
    "df['Water Consumption(mm)'].head()"
   ]
  },
  {
   "cell_type": "code",
   "execution_count": 17,
   "metadata": {},
   "outputs": [
    {
     "data": {
      "text/plain": [
       "350-650    168\n",
       "300-950    102\n",
       "550-950     75\n",
       "Name: Water Consumption(mm), dtype: int64"
      ]
     },
     "execution_count": 17,
     "metadata": {},
     "output_type": "execute_result"
    }
   ],
   "source": [
    "#Water Consumption is the only feature which can't be viewed in the head function\n",
    "df['Water Consumption(mm)'].value_counts()"
   ]
  },
  {
   "cell_type": "code",
   "execution_count": 18,
   "metadata": {},
   "outputs": [
    {
     "data": {
      "text/plain": [
       "(345,)"
      ]
     },
     "execution_count": 18,
     "metadata": {},
     "output_type": "execute_result"
    }
   ],
   "source": [
    "df['Water Consumption(mm)'].shape"
   ]
  },
  {
   "cell_type": "code",
   "execution_count": 19,
   "metadata": {},
   "outputs": [
    {
     "data": {
      "text/plain": [
       "(345, 23)"
      ]
     },
     "execution_count": 19,
     "metadata": {},
     "output_type": "execute_result"
    }
   ],
   "source": [
    "df.shape"
   ]
  },
  {
   "cell_type": "code",
   "execution_count": 20,
   "metadata": {},
   "outputs": [
    {
     "data": {
      "text/plain": [
       "year                          False\n",
       "season                        False\n",
       "crop                          False\n",
       "Period of sowing              False\n",
       "period of harvesting          False\n",
       "Soil Type                     False\n",
       "Ph-value                      False\n",
       "Nitrogen(%)                   False\n",
       "Phosphorus(%)                 False\n",
       "Pottasium(%)                  False\n",
       "Water Consumption(mm)         False\n",
       "Min Temp in Sowing            False\n",
       "Min Temp in Harvesting        False\n",
       "Max Temp in Sowing            False\n",
       "Max Temp in Harvesting        False\n",
       "Avg Temp in Sowing            False\n",
       "Avg Temp in Harvesting        False\n",
       "Avg Rainfall in Sowing        False\n",
       "Avg Rainfall in Harvesting    False\n",
       "area(hectare)                 False\n",
       "production(Tonnes)            False\n",
       "yeild                         False\n",
       "Class labels                  False\n",
       "dtype: bool"
      ]
     },
     "execution_count": 20,
     "metadata": {},
     "output_type": "execute_result"
    }
   ],
   "source": [
    "#checking for null values\n",
    "df.isnull().any()"
   ]
  },
  {
   "cell_type": "code",
   "execution_count": 21,
   "metadata": {},
   "outputs": [
    {
     "data": {
      "text/plain": [
       "year                            int64\n",
       "season                         object\n",
       "crop                           object\n",
       "Period of sowing               object\n",
       "period of harvesting           object\n",
       "Soil Type                      object\n",
       "Ph-value                       object\n",
       "Nitrogen(%)                     int64\n",
       "Phosphorus(%)                   int64\n",
       "Pottasium(%)                  float64\n",
       "Water Consumption(mm)          object\n",
       "Min Temp in Sowing            float64\n",
       "Min Temp in Harvesting        float64\n",
       "Max Temp in Sowing            float64\n",
       "Max Temp in Harvesting        float64\n",
       "Avg Temp in Sowing            float64\n",
       "Avg Temp in Harvesting        float64\n",
       "Avg Rainfall in Sowing        float64\n",
       "Avg Rainfall in Harvesting    float64\n",
       "area(hectare)                   int64\n",
       "production(Tonnes)            float64\n",
       "yeild                         float64\n",
       "Class labels                   object\n",
       "dtype: object"
      ]
     },
     "execution_count": 21,
     "metadata": {},
     "output_type": "execute_result"
    }
   ],
   "source": [
    "df.dtypes"
   ]
  },
  {
   "cell_type": "code",
   "execution_count": 22,
   "metadata": {},
   "outputs": [
    {
     "data": {
      "text/plain": [
       "Kharif    205\n",
       "Rabi       95\n",
       "Summer     45\n",
       "Name: season, dtype: int64"
      ]
     },
     "execution_count": 22,
     "metadata": {},
     "output_type": "execute_result"
    }
   ],
   "source": [
    "df['season'].value_counts()"
   ]
  },
  {
   "cell_type": "code",
   "execution_count": 23,
   "metadata": {},
   "outputs": [
    {
     "data": {
      "text/plain": [
       "Jowar     168\n",
       "Rice      102\n",
       "Cotton     75\n",
       "Name: crop, dtype: int64"
      ]
     },
     "execution_count": 23,
     "metadata": {},
     "output_type": "execute_result"
    }
   ],
   "source": [
    "df['crop'].value_counts()"
   ]
  },
  {
   "cell_type": "markdown",
   "metadata": {},
   "source": [
    "#### Exploratory Data Analysis :"
   ]
  },
  {
   "cell_type": "code",
   "execution_count": 24,
   "metadata": {},
   "outputs": [
    {
     "data": {
      "text/plain": [
       "[]"
      ]
     },
     "execution_count": 24,
     "metadata": {},
     "output_type": "execute_result"
    },
    {
     "data": {
      "image/png": "[encoded data removed]",
      "text/plain": [
       "<Figure size 432x288 with 2 Axes>"
      ]
     },
     "metadata": {},
     "output_type": "display_data"
    }
   ],
   "source": [
    "#plotting two plots\n",
    "plt.subplot(1,2,1)\n",
    "plt.pie(df['season'].value_counts(),explode=(0.1,0,0),counterclock=False,labels=['Kharif','Rabi','Summer'],autopct='%.0f%%',startangle=90,shadow=True)\n",
    "plt.title('Season data Representation')\n",
    "plt.legend(loc=4)\n",
    "plt.axis('equal')\n",
    "\n",
    "plt.subplot(1,2,2)\n",
    "plt.pie(df['crop'].value_counts(),explode=(0.1,0,0),counterclock=False,labels=['Jower','Rice','Cotton'],autopct='%.0f%%',startangle=90,shadow=True)\n",
    "plt.title('Crop data Representation')\n",
    "plt.legend(loc=4)\n",
    "plt.axis('equal')\n",
    "\n",
    "plt.subplots_adjust(wspace=0.5)\n",
    "plt.plot()\n",
    "\n",
    "\n"
   ]
  },
  {
   "cell_type": "markdown",
   "metadata": {},
   "source": [
    "#### Observation :"
   ]
  },
  {
   "cell_type": "markdown",
   "metadata": {},
   "source": [
    "1 . In Season data,Kharif season has the most cultivated crops\n",
    "\n",
    "2 . In crops jower has a much leading numbers in crops."
   ]
  },
  {
   "cell_type": "code",
   "execution_count": 25,
   "metadata": {},
   "outputs": [
    {
     "data": {
      "image/png": "[encoded data removed]",
      "text/plain": [
       "<Figure size 432x288 with 1 Axes>"
      ]
     },
     "metadata": {
      "needs_background": "light"
     },
     "output_type": "display_data"
    }
   ],
   "source": [
    "sns.countplot(data=df,x='Class labels',hue='Soil Type')\n",
    "plt.title(\"Soil type data representation with respect to Class labels\")\n",
    "plt.show()"
   ]
  },
  {
   "cell_type": "markdown",
   "metadata": {},
   "source": [
    "#### Observation :"
   ]
  },
  {
   "cell_type": "markdown",
   "metadata": {},
   "source": [
    "1 . Typically in both Class labels we could see Black soil being more in numbers and followed by red soil and balck soil.\n",
    "\n",
    "2 . It is hard to get information in this data."
   ]
  },
  {
   "cell_type": "code",
   "execution_count": 26,
   "metadata": {},
   "outputs": [
    {
     "data": {
      "text/plain": [
       "[]"
      ]
     },
     "execution_count": 26,
     "metadata": {},
     "output_type": "execute_result"
    },
    {
     "data": {
      "image/png": "[encoded data removed]",
      "text/plain": [
       "<Figure size 432x288 with 1 Axes>"
      ]
     },
     "metadata": {
      "needs_background": "light"
     },
     "output_type": "display_data"
    }
   ],
   "source": [
    "sns.countplot('Class labels',data=df)\n",
    "plt.title('Class Labels representation in numbers')\n",
    "plt.plot()"
   ]
  },
  {
   "cell_type": "markdown",
   "metadata": {},
   "source": [
    "#### Observation :"
   ]
  },
  {
   "cell_type": "markdown",
   "metadata": {},
   "source": [
    "1 . The data is not perfectly balanced but is slightly imbalanced with \"YES\" being more than the \"NO\"."
   ]
  },
  {
   "cell_type": "code",
   "execution_count": 27,
   "metadata": {},
   "outputs": [
    {
     "data": {
      "text/plain": [
       "May-July             200\n",
       "September-October     75\n",
       "January-March         45\n",
       "August-September      20\n",
       "May-September          5\n",
       "Name: Period of sowing, dtype: int64"
      ]
     },
     "execution_count": 27,
     "metadata": {},
     "output_type": "execute_result"
    }
   ],
   "source": [
    "df[\"Period of sowing\"].value_counts()"
   ]
  },
  {
   "cell_type": "code",
   "execution_count": 28,
   "metadata": {},
   "outputs": [
    {
     "data": {
      "text/plain": [
       "December-April        125\n",
       "January-March          75\n",
       "September-December     75\n",
       "April-July             45\n",
       "February-April         20\n",
       "October-January         5\n",
       "Name: period of harvesting, dtype: int64"
      ]
     },
     "execution_count": 28,
     "metadata": {},
     "output_type": "execute_result"
    }
   ],
   "source": [
    "df['period of harvesting'].value_counts()"
   ]
  },
  {
   "cell_type": "code",
   "execution_count": 29,
   "metadata": {},
   "outputs": [
    {
     "data": {
      "text/plain": [
       "[]"
      ]
     },
     "execution_count": 29,
     "metadata": {},
     "output_type": "execute_result"
    },
    {
     "data": {
      "image/png": "[encoded data removed]",
      "text/plain": [
       "<Figure size 432x288 with 2 Axes>"
      ]
     },
     "metadata": {
      "needs_background": "light"
     },
     "output_type": "display_data"
    }
   ],
   "source": [
    "#boxplot for Nitrogen and Phosphorus\n",
    "plt.subplot(1,2,1)\n",
    "sns.boxplot(x='Class labels',y='Nitrogen(%)',data=df)\n",
    "plt.title(\"Nitrogen distribution\")\n",
    "\n",
    "plt.subplot(1,2,2)\n",
    "sns.boxplot(x=\"Class labels\",y=\"Phosphorus(%)\",data=df)\n",
    "plt.title(\"Phosphorus distribution\")\n",
    "\n",
    "plt.subplots_adjust(wspace=1)\n",
    "plt.plot()"
   ]
  },
  {
   "cell_type": "markdown",
   "metadata": {},
   "source": [
    "#### Observation :"
   ]
  },
  {
   "cell_type": "markdown",
   "metadata": {},
   "source": [
    "1 . Both Nitrogen and Phosphorus data are ranging from 35-45 with minute outliers near 15 w.r.t \"YES\".\n",
    "\n",
    "2 . With terms of \"NO\", both have a Median of 35 with starting range of 10 and ending range of 45."
   ]
  },
  {
   "cell_type": "code",
   "execution_count": 30,
   "metadata": {},
   "outputs": [
    {
     "data": {
      "text/plain": [
       "19.1    75\n",
       "25.1    75\n",
       "12.0    75\n",
       "1.0     55\n",
       "24.1    27\n",
       "0.0     20\n",
       "30.2    18\n",
       "Name: Avg Temp in Harvesting, dtype: int64"
      ]
     },
     "execution_count": 30,
     "metadata": {},
     "output_type": "execute_result"
    }
   ],
   "source": [
    "df['Avg Temp in Harvesting'].value_counts()"
   ]
  },
  {
   "cell_type": "code",
   "execution_count": 31,
   "metadata": {},
   "outputs": [
    {
     "data": {
      "image/png": "[encoded data removed]",
      "text/plain": [
       "<Figure size 432x288 with 1 Axes>"
      ]
     },
     "metadata": {
      "needs_background": "light"
     },
     "output_type": "display_data"
    }
   ],
   "source": [
    "#boxplot for Area\n",
    "sns.boxplot(x='Class labels',y='area(hectare)',data=df)\n",
    "plt.title(\"Area distribution\")\n",
    "plt.show()"
   ]
  },
  {
   "cell_type": "markdown",
   "metadata": {},
   "source": [
    "#### Observation :"
   ]
  },
  {
   "cell_type": "markdown",
   "metadata": {},
   "source": [
    "1 . There are some outliers in\"YES\" label ranging from 100000 to 175000,with a median of near to 0.\n",
    "\n",
    "2 . With median close to 0,It has range of 0-100000 w.r.t \"NO\" label."
   ]
  },
  {
   "cell_type": "code",
   "execution_count": 32,
   "metadata": {},
   "outputs": [
    {
     "data": {
      "image/png": "[encoded data removed]",
      "text/plain": [
       "<Figure size 432x288 with 1 Axes>"
      ]
     },
     "metadata": {
      "needs_background": "light"
     },
     "output_type": "display_data"
    }
   ],
   "source": [
    "sns.boxplot(x='Class labels',y='production(Tonnes)',data=df)\n",
    "plt.title(\"Production distribution\")\n",
    "plt.show()"
   ]
  },
  {
   "cell_type": "markdown",
   "metadata": {},
   "source": [
    "#### Observation :"
   ]
  },
  {
   "cell_type": "markdown",
   "metadata": {},
   "source": [
    "1 . Both good and bad crop have median value of near to 0 and ranges from 0-25000."
   ]
  },
  {
   "cell_type": "code",
   "execution_count": 33,
   "metadata": {},
   "outputs": [
    {
     "data": {
      "text/plain": [
       "[]"
      ]
     },
     "execution_count": 33,
     "metadata": {},
     "output_type": "execute_result"
    },
    {
     "data": {
      "image/png": "[encoded data removed]",
      "text/plain": [
       "<Figure size 432x288 with 1 Axes>"
      ]
     },
     "metadata": {
      "needs_background": "light"
     },
     "output_type": "display_data"
    }
   ],
   "source": [
    "sns.kdeplot(df['area(hectare)'],shade=True)\n",
    "sns.kdeplot(df['production(Tonnes)'],shade=True)\n",
    "plt.grid()\n",
    "plt.title(\"AREA and PRODUCTION in terms of Distribution\")\n",
    "plt.plot()"
   ]
  },
  {
   "cell_type": "markdown",
   "metadata": {},
   "source": [
    "#### Observation :"
   ]
  },
  {
   "cell_type": "markdown",
   "metadata": {},
   "source": [
    "1 . Area data is right skewed with mean of 0.\n",
    "\n",
    "2 . Production data is also right skewed but with 40% of data in mean 0. "
   ]
  },
  {
   "cell_type": "code",
   "execution_count": 34,
   "metadata": {},
   "outputs": [
    {
     "data": {
      "text/plain": [
       "May-July             200\n",
       "September-October     75\n",
       "January-March         45\n",
       "August-September      20\n",
       "May-September          5\n",
       "Name: Period of sowing, dtype: int64"
      ]
     },
     "execution_count": 34,
     "metadata": {},
     "output_type": "execute_result"
    }
   ],
   "source": [
    "df['Period of sowing'].value_counts()"
   ]
  },
  {
   "cell_type": "code",
   "execution_count": 35,
   "metadata": {},
   "outputs": [
    {
     "data": {
      "image/png": "[encoded data removed]",
      "text/plain": [
       "<Figure size 432x288 with 1 Axes>"
      ]
     },
     "metadata": {
      "needs_background": "light"
     },
     "output_type": "display_data"
    }
   ],
   "source": [
    "squarify.plot(sizes=df['Period of sowing'].value_counts(),label=[\"May-July\",\"September-October\",\"January-March\",\"August-September\",\"May-September\"],color=[\"red\",\"green\",\"blue\",\"grey\",\"pink\"],alpha=.3)\n",
    "plt.title(\"Period of Sowing density visaualisation\")\n",
    "plt.axis('off')\n",
    "plt.show()"
   ]
  },
  {
   "cell_type": "markdown",
   "metadata": {},
   "source": [
    "#### Observation :"
   ]
  },
  {
   "cell_type": "markdown",
   "metadata": {},
   "source": [
    "1 . Most of the sowing is in month for May-July."
   ]
  },
  {
   "cell_type": "code",
   "execution_count": 36,
   "metadata": {},
   "outputs": [
    {
     "data": {
      "text/plain": [
       "[]"
      ]
     },
     "execution_count": 36,
     "metadata": {},
     "output_type": "execute_result"
    },
    {
     "data": {
      "image/png": "[encoded data removed]",
      "text/plain": [
       "<Figure size 432x432 with 3 Axes>"
      ]
     },
     "metadata": {
      "needs_background": "light"
     },
     "output_type": "display_data"
    }
   ],
   "source": [
    "sns.jointplot(x=\"area(hectare)\",y=\"production(Tonnes)\",data=df)\n",
    "plt.title(\"Comparison of Production and area\")\n",
    "plt.plot()"
   ]
  },
  {
   "cell_type": "markdown",
   "metadata": {},
   "source": [
    "#### Observation :"
   ]
  },
  {
   "cell_type": "markdown",
   "metadata": {},
   "source": [
    "1 . Right skewed distribution with 0-25000 in  both area and production."
   ]
  },
  {
   "cell_type": "code",
   "execution_count": 37,
   "metadata": {},
   "outputs": [
    {
     "data": {
      "text/plain": [
       "6.0-7.5    168\n",
       "5.0-8.0    102\n",
       "7.0-8.0     75\n",
       "Name: Ph-value, dtype: int64"
      ]
     },
     "execution_count": 37,
     "metadata": {},
     "output_type": "execute_result"
    }
   ],
   "source": [
    "df['Ph-value'].value_counts()"
   ]
  },
  {
   "cell_type": "code",
   "execution_count": 38,
   "metadata": {},
   "outputs": [
    {
     "data": {
      "text/plain": [
       "[]"
      ]
     },
     "execution_count": 38,
     "metadata": {},
     "output_type": "execute_result"
    },
    {
     "data": {
      "image/png": "[encoded data removed]",
      "text/plain": [
       "<Figure size 432x288 with 1 Axes>"
      ]
     },
     "metadata": {},
     "output_type": "display_data"
    }
   ],
   "source": [
    "plt.pie(df['Ph-value'].value_counts(),explode=(0.1,0,0),counterclock=False,labels=['6.0-7.5','5.0-8.0','7.0-8.0'],autopct='%.0f%%',startangle=90,shadow=True)\n",
    "plt.title('PH-value data Representation')\n",
    "plt.legend(loc=1)\n",
    "plt.axis('equal')\n",
    "plt.plot()"
   ]
  },
  {
   "cell_type": "markdown",
   "metadata": {},
   "source": [
    "#### Observation :"
   ]
  },
  {
   "cell_type": "markdown",
   "metadata": {},
   "source": [
    "1 . 6.0-7.5 is the most cultivated ph value crop."
   ]
  },
  {
   "cell_type": "code",
   "execution_count": 39,
   "metadata": {},
   "outputs": [
    {
     "data": {
      "image/png": "[encoded data removed]",
      "text/plain": [
       "<Figure size 432x288 with 1 Axes>"
      ]
     },
     "metadata": {
      "needs_background": "light"
     },
     "output_type": "display_data"
    }
   ],
   "source": [
    "sns.countplot(data=df,x='Class labels',hue='Water Consumption(mm)')\n",
    "plt.title(\"Water Consumption data representation with respect to Class labels\")\n",
    "plt.show()"
   ]
  },
  {
   "cell_type": "markdown",
   "metadata": {},
   "source": [
    "#### Observation :"
   ]
  },
  {
   "cell_type": "markdown",
   "metadata": {},
   "source": [
    "1 .  Water consumption with 350-650 mm has a high chances of being \"yes\" labelled.\n",
    "\n",
    "2 . If 550-950 mm then,high chances of being bad crop."
   ]
  },
  {
   "cell_type": "markdown",
   "metadata": {},
   "source": [
    "#### Confusion Matrix Visualisation"
   ]
  },
  {
   "cell_type": "code",
   "execution_count": 40,
   "metadata": {},
   "outputs": [
    {
     "data": {
      "image/png": "[encoded data removed]",
      "text/plain": [
       "<Figure size 1000x1000 with 2 Axes>"
      ]
     },
     "metadata": {
      "needs_background": "light"
     },
     "output_type": "display_data"
    }
   ],
   "source": [
    "#Confusion matrix plotting\n",
    "plt.figure(figsize=(10,10),dpi=100)\n",
    "sns.heatmap(df.corr(),annot=True,annot_kws={\"size\": 7})\n",
    "plt.title(\"Heatmap for Correlation of all features\")\n",
    "plt.show()"
   ]
  },
  {
   "cell_type": "markdown",
   "metadata": {},
   "source": [
    "#### Observation :"
   ]
  },
  {
   "cell_type": "markdown",
   "metadata": {},
   "source": [
    "1 . we have more highly negative correlated features and is hard to find the required features. "
   ]
  },
  {
   "cell_type": "code",
   "execution_count": 41,
   "metadata": {},
   "outputs": [
    {
     "data": {
      "text/plain": [
       "year                            int64\n",
       "season                         object\n",
       "crop                           object\n",
       "Period of sowing               object\n",
       "period of harvesting           object\n",
       "Soil Type                      object\n",
       "Ph-value                       object\n",
       "Nitrogen(%)                     int64\n",
       "Phosphorus(%)                   int64\n",
       "Pottasium(%)                  float64\n",
       "Water Consumption(mm)          object\n",
       "Min Temp in Sowing            float64\n",
       "Min Temp in Harvesting        float64\n",
       "Max Temp in Sowing            float64\n",
       "Max Temp in Harvesting        float64\n",
       "Avg Temp in Sowing            float64\n",
       "Avg Temp in Harvesting        float64\n",
       "Avg Rainfall in Sowing        float64\n",
       "Avg Rainfall in Harvesting    float64\n",
       "area(hectare)                   int64\n",
       "production(Tonnes)            float64\n",
       "yeild                         float64\n",
       "Class labels                   object\n",
       "dtype: object"
      ]
     },
     "execution_count": 41,
     "metadata": {},
     "output_type": "execute_result"
    }
   ],
   "source": [
    "df.dtypes"
   ]
  },
  {
   "cell_type": "code",
   "execution_count": 42,
   "metadata": {},
   "outputs": [],
   "source": [
    "#label encoding for categorical features for FEature Selection\n",
    "lb=LabelEncoder()"
   ]
  },
  {
   "cell_type": "code",
   "execution_count": 43,
   "metadata": {},
   "outputs": [],
   "source": [
    "x=df.iloc[:,0:22].values\n",
    "y=df.iloc[:,22].values"
   ]
  },
  {
   "cell_type": "code",
   "execution_count": 44,
   "metadata": {},
   "outputs": [],
   "source": [
    "x[:,1]=lb.fit_transform(x[:,1])\n",
    "x[:,2]=lb.fit_transform(x[:,2])\n",
    "x[:,3]=lb.fit_transform(x[:,3])\n",
    "x[:,4]=lb.fit_transform(x[:,4])\n",
    "x[:,5]=lb.fit_transform(x[:,5])\n",
    "x[:,6]=lb.fit_transform(x[:,6])\n",
    "x[:,10]=lb.fit_transform(x[:,10])\n"
   ]
  },
  {
   "cell_type": "code",
   "execution_count": 45,
   "metadata": {},
   "outputs": [],
   "source": [
    "y=lb.fit_transform(y)"
   ]
  },
  {
   "cell_type": "code",
   "execution_count": 46,
   "metadata": {},
   "outputs": [
    {
     "data": {
      "text/html": [
       "<div>\n",
       "<style scoped>\n",
       "    .dataframe tbody tr th:only-of-type {\n",
       "        vertical-align: middle;\n",
       "    }\n",
       "\n",
       "    .dataframe tbody tr th {\n",
       "        vertical-align: top;\n",
       "    }\n",
       "\n",
       "    .dataframe thead th {\n",
       "        text-align: right;\n",
       "    }\n",
       "</style>\n",
       "<table border=\"1\" class=\"dataframe\">\n",
       "  <thead>\n",
       "    <tr style=\"text-align: right;\">\n",
       "      <th></th>\n",
       "      <th>year</th>\n",
       "      <th>season</th>\n",
       "      <th>crop</th>\n",
       "      <th>Period of sowing</th>\n",
       "      <th>period of harvesting</th>\n",
       "      <th>Soil Type</th>\n",
       "      <th>Ph-value</th>\n",
       "      <th>Nitrogen(%)</th>\n",
       "      <th>Phosphorus(%)</th>\n",
       "      <th>Pottasium(%)</th>\n",
       "      <th>...</th>\n",
       "      <th>Max Temp in Sowing</th>\n",
       "      <th>Max Temp in Harvesting</th>\n",
       "      <th>Avg Temp in Sowing</th>\n",
       "      <th>Avg Temp in Harvesting</th>\n",
       "      <th>Avg Rainfall in Sowing</th>\n",
       "      <th>Avg Rainfall in Harvesting</th>\n",
       "      <th>area(hectare)</th>\n",
       "      <th>production(Tonnes)</th>\n",
       "      <th>yeild</th>\n",
       "      <th>Class labels</th>\n",
       "    </tr>\n",
       "  </thead>\n",
       "  <tbody>\n",
       "    <tr>\n",
       "      <th>0</th>\n",
       "      <td>1998</td>\n",
       "      <td>Kharif</td>\n",
       "      <td>Jowar</td>\n",
       "      <td>May-July</td>\n",
       "      <td>September-December</td>\n",
       "      <td>black soil</td>\n",
       "      <td>6.0-7.5</td>\n",
       "      <td>47</td>\n",
       "      <td>45</td>\n",
       "      <td>45.0</td>\n",
       "      <td>...</td>\n",
       "      <td>36.7</td>\n",
       "      <td>25.1</td>\n",
       "      <td>31.6</td>\n",
       "      <td>25.1</td>\n",
       "      <td>1.3</td>\n",
       "      <td>9.7</td>\n",
       "      <td>12363</td>\n",
       "      <td>24855.00</td>\n",
       "      <td>2.010</td>\n",
       "      <td>yes</td>\n",
       "    </tr>\n",
       "    <tr>\n",
       "      <th>1</th>\n",
       "      <td>1998</td>\n",
       "      <td>Kharif</td>\n",
       "      <td>Cotton</td>\n",
       "      <td>May-July</td>\n",
       "      <td>December-April</td>\n",
       "      <td>black soil</td>\n",
       "      <td>7.0-8.0</td>\n",
       "      <td>7</td>\n",
       "      <td>14</td>\n",
       "      <td>11.0</td>\n",
       "      <td>...</td>\n",
       "      <td>22.0</td>\n",
       "      <td>1.0</td>\n",
       "      <td>14.8</td>\n",
       "      <td>1.0</td>\n",
       "      <td>92.3</td>\n",
       "      <td>29.2</td>\n",
       "      <td>15225</td>\n",
       "      <td>22129.00</td>\n",
       "      <td>1.453</td>\n",
       "      <td>no</td>\n",
       "    </tr>\n",
       "    <tr>\n",
       "      <th>2</th>\n",
       "      <td>1998</td>\n",
       "      <td>Kharif</td>\n",
       "      <td>Rice</td>\n",
       "      <td>May-September</td>\n",
       "      <td>October-January</td>\n",
       "      <td>red soil</td>\n",
       "      <td>5.0-8.0</td>\n",
       "      <td>35</td>\n",
       "      <td>35</td>\n",
       "      <td>34.4</td>\n",
       "      <td>...</td>\n",
       "      <td>32.6</td>\n",
       "      <td>12.0</td>\n",
       "      <td>26.3</td>\n",
       "      <td>12.0</td>\n",
       "      <td>80.6</td>\n",
       "      <td>77.2</td>\n",
       "      <td>197</td>\n",
       "      <td>316.00</td>\n",
       "      <td>1.604</td>\n",
       "      <td>no</td>\n",
       "    </tr>\n",
       "    <tr>\n",
       "      <th>3</th>\n",
       "      <td>1998</td>\n",
       "      <td>Rabi</td>\n",
       "      <td>Jowar</td>\n",
       "      <td>September-October</td>\n",
       "      <td>January-March</td>\n",
       "      <td>black soil</td>\n",
       "      <td>6.0-7.5</td>\n",
       "      <td>47</td>\n",
       "      <td>45</td>\n",
       "      <td>45.0</td>\n",
       "      <td>...</td>\n",
       "      <td>34.1</td>\n",
       "      <td>19.1</td>\n",
       "      <td>29.1</td>\n",
       "      <td>19.1</td>\n",
       "      <td>1.5</td>\n",
       "      <td>39.3</td>\n",
       "      <td>152540</td>\n",
       "      <td>120840.00</td>\n",
       "      <td>0.792</td>\n",
       "      <td>no</td>\n",
       "    </tr>\n",
       "    <tr>\n",
       "      <th>4</th>\n",
       "      <td>1998</td>\n",
       "      <td>Kharif</td>\n",
       "      <td>Cotton</td>\n",
       "      <td>May-July</td>\n",
       "      <td>December-April</td>\n",
       "      <td>black soil</td>\n",
       "      <td>7.0-8.0</td>\n",
       "      <td>7</td>\n",
       "      <td>14</td>\n",
       "      <td>11.0</td>\n",
       "      <td>...</td>\n",
       "      <td>22.0</td>\n",
       "      <td>1.0</td>\n",
       "      <td>14.8</td>\n",
       "      <td>1.0</td>\n",
       "      <td>92.3</td>\n",
       "      <td>29.2</td>\n",
       "      <td>11979</td>\n",
       "      <td>18434.00</td>\n",
       "      <td>1.538</td>\n",
       "      <td>no</td>\n",
       "    </tr>\n",
       "    <tr>\n",
       "      <th>5</th>\n",
       "      <td>1998</td>\n",
       "      <td>Kharif</td>\n",
       "      <td>Jowar</td>\n",
       "      <td>May-July</td>\n",
       "      <td>September-December</td>\n",
       "      <td>black soil</td>\n",
       "      <td>6.0-7.5</td>\n",
       "      <td>47</td>\n",
       "      <td>45</td>\n",
       "      <td>45.0</td>\n",
       "      <td>...</td>\n",
       "      <td>36.7</td>\n",
       "      <td>25.1</td>\n",
       "      <td>31.6</td>\n",
       "      <td>25.1</td>\n",
       "      <td>1.3</td>\n",
       "      <td>9.7</td>\n",
       "      <td>11598</td>\n",
       "      <td>21354.00</td>\n",
       "      <td>1.841</td>\n",
       "      <td>yes</td>\n",
       "    </tr>\n",
       "    <tr>\n",
       "      <th>6</th>\n",
       "      <td>1998</td>\n",
       "      <td>Kharif</td>\n",
       "      <td>Rice</td>\n",
       "      <td>May-July</td>\n",
       "      <td>December-April</td>\n",
       "      <td>red soil</td>\n",
       "      <td>5.0-8.0</td>\n",
       "      <td>35</td>\n",
       "      <td>35</td>\n",
       "      <td>34.4</td>\n",
       "      <td>...</td>\n",
       "      <td>32.6</td>\n",
       "      <td>12.0</td>\n",
       "      <td>26.3</td>\n",
       "      <td>12.0</td>\n",
       "      <td>80.6</td>\n",
       "      <td>77.2</td>\n",
       "      <td>128</td>\n",
       "      <td>202.00</td>\n",
       "      <td>1.570</td>\n",
       "      <td>no</td>\n",
       "    </tr>\n",
       "    <tr>\n",
       "      <th>7</th>\n",
       "      <td>1998</td>\n",
       "      <td>Rabi</td>\n",
       "      <td>Jowar</td>\n",
       "      <td>September-October</td>\n",
       "      <td>January-March</td>\n",
       "      <td>black soil</td>\n",
       "      <td>6.0-7.5</td>\n",
       "      <td>47</td>\n",
       "      <td>45</td>\n",
       "      <td>45.0</td>\n",
       "      <td>...</td>\n",
       "      <td>34.1</td>\n",
       "      <td>19.1</td>\n",
       "      <td>29.1</td>\n",
       "      <td>19.1</td>\n",
       "      <td>1.5</td>\n",
       "      <td>39.3</td>\n",
       "      <td>160974</td>\n",
       "      <td>147679.00</td>\n",
       "      <td>0.917</td>\n",
       "      <td>yes</td>\n",
       "    </tr>\n",
       "    <tr>\n",
       "      <th>8</th>\n",
       "      <td>1998</td>\n",
       "      <td>Kharif</td>\n",
       "      <td>Cotton</td>\n",
       "      <td>May-July</td>\n",
       "      <td>December-April</td>\n",
       "      <td>black soil</td>\n",
       "      <td>7.0-8.0</td>\n",
       "      <td>7</td>\n",
       "      <td>14</td>\n",
       "      <td>11.0</td>\n",
       "      <td>...</td>\n",
       "      <td>22.0</td>\n",
       "      <td>1.0</td>\n",
       "      <td>14.8</td>\n",
       "      <td>1.0</td>\n",
       "      <td>92.3</td>\n",
       "      <td>29.2</td>\n",
       "      <td>15767</td>\n",
       "      <td>23002.00</td>\n",
       "      <td>1.458</td>\n",
       "      <td>no</td>\n",
       "    </tr>\n",
       "    <tr>\n",
       "      <th>9</th>\n",
       "      <td>1998</td>\n",
       "      <td>Kharif</td>\n",
       "      <td>Jowar</td>\n",
       "      <td>May-July</td>\n",
       "      <td>September-December</td>\n",
       "      <td>black soil</td>\n",
       "      <td>6.0-7.5</td>\n",
       "      <td>47</td>\n",
       "      <td>45</td>\n",
       "      <td>45.0</td>\n",
       "      <td>...</td>\n",
       "      <td>36.7</td>\n",
       "      <td>25.1</td>\n",
       "      <td>31.6</td>\n",
       "      <td>25.1</td>\n",
       "      <td>1.3</td>\n",
       "      <td>9.7</td>\n",
       "      <td>11375</td>\n",
       "      <td>22359.00</td>\n",
       "      <td>1.965</td>\n",
       "      <td>yes</td>\n",
       "    </tr>\n",
       "    <tr>\n",
       "      <th>10</th>\n",
       "      <td>1998</td>\n",
       "      <td>Kharif</td>\n",
       "      <td>Rice</td>\n",
       "      <td>May-July</td>\n",
       "      <td>December-April</td>\n",
       "      <td>red soil</td>\n",
       "      <td>5.0-8.0</td>\n",
       "      <td>35</td>\n",
       "      <td>35</td>\n",
       "      <td>34.4</td>\n",
       "      <td>...</td>\n",
       "      <td>32.6</td>\n",
       "      <td>12.0</td>\n",
       "      <td>26.3</td>\n",
       "      <td>12.0</td>\n",
       "      <td>80.6</td>\n",
       "      <td>77.2</td>\n",
       "      <td>171</td>\n",
       "      <td>311.00</td>\n",
       "      <td>1.810</td>\n",
       "      <td>no</td>\n",
       "    </tr>\n",
       "    <tr>\n",
       "      <th>11</th>\n",
       "      <td>1998</td>\n",
       "      <td>Rabi</td>\n",
       "      <td>Jowar</td>\n",
       "      <td>September-October</td>\n",
       "      <td>January-March</td>\n",
       "      <td>black soil</td>\n",
       "      <td>6.0-7.5</td>\n",
       "      <td>47</td>\n",
       "      <td>45</td>\n",
       "      <td>45.0</td>\n",
       "      <td>...</td>\n",
       "      <td>34.1</td>\n",
       "      <td>19.1</td>\n",
       "      <td>29.1</td>\n",
       "      <td>19.1</td>\n",
       "      <td>1.5</td>\n",
       "      <td>39.3</td>\n",
       "      <td>132473</td>\n",
       "      <td>94603.00</td>\n",
       "      <td>0.710</td>\n",
       "      <td>no</td>\n",
       "    </tr>\n",
       "    <tr>\n",
       "      <th>12</th>\n",
       "      <td>1998</td>\n",
       "      <td>Kharif</td>\n",
       "      <td>Cotton</td>\n",
       "      <td>May-July</td>\n",
       "      <td>December-April</td>\n",
       "      <td>black soil</td>\n",
       "      <td>7.0-8.0</td>\n",
       "      <td>7</td>\n",
       "      <td>14</td>\n",
       "      <td>11.0</td>\n",
       "      <td>...</td>\n",
       "      <td>22.0</td>\n",
       "      <td>1.0</td>\n",
       "      <td>14.8</td>\n",
       "      <td>1.0</td>\n",
       "      <td>92.3</td>\n",
       "      <td>29.2</td>\n",
       "      <td>14104</td>\n",
       "      <td>22539.00</td>\n",
       "      <td>1.590</td>\n",
       "      <td>no</td>\n",
       "    </tr>\n",
       "    <tr>\n",
       "      <th>13</th>\n",
       "      <td>1998</td>\n",
       "      <td>Kharif</td>\n",
       "      <td>Jowar</td>\n",
       "      <td>May-July</td>\n",
       "      <td>September-December</td>\n",
       "      <td>black soil</td>\n",
       "      <td>6.0-7.5</td>\n",
       "      <td>47</td>\n",
       "      <td>45</td>\n",
       "      <td>45.0</td>\n",
       "      <td>...</td>\n",
       "      <td>36.7</td>\n",
       "      <td>25.1</td>\n",
       "      <td>31.6</td>\n",
       "      <td>25.1</td>\n",
       "      <td>1.3</td>\n",
       "      <td>9.7</td>\n",
       "      <td>6786</td>\n",
       "      <td>12064.00</td>\n",
       "      <td>1.770</td>\n",
       "      <td>yes</td>\n",
       "    </tr>\n",
       "    <tr>\n",
       "      <th>14</th>\n",
       "      <td>1998</td>\n",
       "      <td>Kharif</td>\n",
       "      <td>Rice</td>\n",
       "      <td>May-July</td>\n",
       "      <td>December-April</td>\n",
       "      <td>red soil</td>\n",
       "      <td>5.0-8.0</td>\n",
       "      <td>35</td>\n",
       "      <td>35</td>\n",
       "      <td>34.4</td>\n",
       "      <td>...</td>\n",
       "      <td>32.6</td>\n",
       "      <td>12.0</td>\n",
       "      <td>26.3</td>\n",
       "      <td>12.0</td>\n",
       "      <td>80.6</td>\n",
       "      <td>77.2</td>\n",
       "      <td>171</td>\n",
       "      <td>411.00</td>\n",
       "      <td>2.400</td>\n",
       "      <td>yes</td>\n",
       "    </tr>\n",
       "    <tr>\n",
       "      <th>15</th>\n",
       "      <td>1998</td>\n",
       "      <td>Rabi</td>\n",
       "      <td>Jowar</td>\n",
       "      <td>September-October</td>\n",
       "      <td>January-March</td>\n",
       "      <td>black soil</td>\n",
       "      <td>6.0-7.5</td>\n",
       "      <td>47</td>\n",
       "      <td>45</td>\n",
       "      <td>45.0</td>\n",
       "      <td>...</td>\n",
       "      <td>34.1</td>\n",
       "      <td>19.1</td>\n",
       "      <td>29.1</td>\n",
       "      <td>19.1</td>\n",
       "      <td>1.5</td>\n",
       "      <td>39.3</td>\n",
       "      <td>170489</td>\n",
       "      <td>125015.00</td>\n",
       "      <td>0.730</td>\n",
       "      <td>no</td>\n",
       "    </tr>\n",
       "    <tr>\n",
       "      <th>16</th>\n",
       "      <td>1998</td>\n",
       "      <td>Summer</td>\n",
       "      <td>Rice</td>\n",
       "      <td>January-March</td>\n",
       "      <td>April-July</td>\n",
       "      <td>red soil</td>\n",
       "      <td>5.0-8.0</td>\n",
       "      <td>35</td>\n",
       "      <td>35</td>\n",
       "      <td>34.4</td>\n",
       "      <td>...</td>\n",
       "      <td>16.4</td>\n",
       "      <td>24.1</td>\n",
       "      <td>10.1</td>\n",
       "      <td>24.1</td>\n",
       "      <td>69.3</td>\n",
       "      <td>89.2</td>\n",
       "      <td>13</td>\n",
       "      <td>19.00</td>\n",
       "      <td>1.460</td>\n",
       "      <td>no</td>\n",
       "    </tr>\n",
       "    <tr>\n",
       "      <th>17</th>\n",
       "      <td>1999</td>\n",
       "      <td>Kharif</td>\n",
       "      <td>Cotton</td>\n",
       "      <td>May-July</td>\n",
       "      <td>December-April</td>\n",
       "      <td>black soil</td>\n",
       "      <td>7.0-8.0</td>\n",
       "      <td>7</td>\n",
       "      <td>14</td>\n",
       "      <td>11.0</td>\n",
       "      <td>...</td>\n",
       "      <td>22.0</td>\n",
       "      <td>1.0</td>\n",
       "      <td>14.8</td>\n",
       "      <td>1.0</td>\n",
       "      <td>92.3</td>\n",
       "      <td>29.2</td>\n",
       "      <td>3511</td>\n",
       "      <td>5149.00</td>\n",
       "      <td>1.460</td>\n",
       "      <td>no</td>\n",
       "    </tr>\n",
       "    <tr>\n",
       "      <th>18</th>\n",
       "      <td>1999</td>\n",
       "      <td>Kharif</td>\n",
       "      <td>Jowar</td>\n",
       "      <td>May-July</td>\n",
       "      <td>September-December</td>\n",
       "      <td>black soil</td>\n",
       "      <td>6.0-7.5</td>\n",
       "      <td>47</td>\n",
       "      <td>45</td>\n",
       "      <td>45.0</td>\n",
       "      <td>...</td>\n",
       "      <td>36.7</td>\n",
       "      <td>25.1</td>\n",
       "      <td>31.6</td>\n",
       "      <td>25.1</td>\n",
       "      <td>1.3</td>\n",
       "      <td>9.7</td>\n",
       "      <td>5551</td>\n",
       "      <td>9005.00</td>\n",
       "      <td>1.620</td>\n",
       "      <td>yes</td>\n",
       "    </tr>\n",
       "    <tr>\n",
       "      <th>19</th>\n",
       "      <td>1999</td>\n",
       "      <td>Kharif</td>\n",
       "      <td>Rice</td>\n",
       "      <td>May-July</td>\n",
       "      <td>December-April</td>\n",
       "      <td>red soil</td>\n",
       "      <td>5.0-8.0</td>\n",
       "      <td>35</td>\n",
       "      <td>35</td>\n",
       "      <td>34.4</td>\n",
       "      <td>...</td>\n",
       "      <td>32.6</td>\n",
       "      <td>12.0</td>\n",
       "      <td>26.3</td>\n",
       "      <td>12.0</td>\n",
       "      <td>80.6</td>\n",
       "      <td>77.2</td>\n",
       "      <td>112</td>\n",
       "      <td>230.00</td>\n",
       "      <td>2.050</td>\n",
       "      <td>yes</td>\n",
       "    </tr>\n",
       "    <tr>\n",
       "      <th>20</th>\n",
       "      <td>1999</td>\n",
       "      <td>Rabi</td>\n",
       "      <td>Jowar</td>\n",
       "      <td>September-October</td>\n",
       "      <td>January-March</td>\n",
       "      <td>black soil</td>\n",
       "      <td>6.0-7.5</td>\n",
       "      <td>47</td>\n",
       "      <td>45</td>\n",
       "      <td>45.0</td>\n",
       "      <td>...</td>\n",
       "      <td>34.1</td>\n",
       "      <td>19.1</td>\n",
       "      <td>29.1</td>\n",
       "      <td>19.1</td>\n",
       "      <td>1.5</td>\n",
       "      <td>39.3</td>\n",
       "      <td>157259</td>\n",
       "      <td>98880.00</td>\n",
       "      <td>0.628</td>\n",
       "      <td>no</td>\n",
       "    </tr>\n",
       "    <tr>\n",
       "      <th>21</th>\n",
       "      <td>1999</td>\n",
       "      <td>Summer</td>\n",
       "      <td>Jowar</td>\n",
       "      <td>January-March</td>\n",
       "      <td>April-July</td>\n",
       "      <td>black soil</td>\n",
       "      <td>6.0-7.5</td>\n",
       "      <td>47</td>\n",
       "      <td>45</td>\n",
       "      <td>45.0</td>\n",
       "      <td>...</td>\n",
       "      <td>24.0</td>\n",
       "      <td>30.2</td>\n",
       "      <td>19.1</td>\n",
       "      <td>30.2</td>\n",
       "      <td>39.3</td>\n",
       "      <td>3.7</td>\n",
       "      <td>2</td>\n",
       "      <td>2.00</td>\n",
       "      <td>1.000</td>\n",
       "      <td>no</td>\n",
       "    </tr>\n",
       "    <tr>\n",
       "      <th>22</th>\n",
       "      <td>1999</td>\n",
       "      <td>Summer</td>\n",
       "      <td>Rice</td>\n",
       "      <td>January-March</td>\n",
       "      <td>April-July</td>\n",
       "      <td>red soil</td>\n",
       "      <td>5.0-8.0</td>\n",
       "      <td>35</td>\n",
       "      <td>35</td>\n",
       "      <td>34.4</td>\n",
       "      <td>...</td>\n",
       "      <td>16.4</td>\n",
       "      <td>24.1</td>\n",
       "      <td>10.1</td>\n",
       "      <td>24.1</td>\n",
       "      <td>69.3</td>\n",
       "      <td>89.2</td>\n",
       "      <td>15</td>\n",
       "      <td>16.00</td>\n",
       "      <td>1.060</td>\n",
       "      <td>no</td>\n",
       "    </tr>\n",
       "    <tr>\n",
       "      <th>23</th>\n",
       "      <td>1999</td>\n",
       "      <td>Kharif</td>\n",
       "      <td>Cotton</td>\n",
       "      <td>May-July</td>\n",
       "      <td>December-April</td>\n",
       "      <td>black soil</td>\n",
       "      <td>7.0-8.0</td>\n",
       "      <td>7</td>\n",
       "      <td>14</td>\n",
       "      <td>11.0</td>\n",
       "      <td>...</td>\n",
       "      <td>22.0</td>\n",
       "      <td>1.0</td>\n",
       "      <td>14.8</td>\n",
       "      <td>1.0</td>\n",
       "      <td>92.3</td>\n",
       "      <td>29.2</td>\n",
       "      <td>3226</td>\n",
       "      <td>6374.00</td>\n",
       "      <td>1.970</td>\n",
       "      <td>no</td>\n",
       "    </tr>\n",
       "    <tr>\n",
       "      <th>24</th>\n",
       "      <td>1999</td>\n",
       "      <td>Kharif</td>\n",
       "      <td>Jowar</td>\n",
       "      <td>May-July</td>\n",
       "      <td>September-December</td>\n",
       "      <td>black soil</td>\n",
       "      <td>6.0-7.5</td>\n",
       "      <td>47</td>\n",
       "      <td>45</td>\n",
       "      <td>45.0</td>\n",
       "      <td>...</td>\n",
       "      <td>36.7</td>\n",
       "      <td>25.1</td>\n",
       "      <td>31.6</td>\n",
       "      <td>25.1</td>\n",
       "      <td>1.3</td>\n",
       "      <td>9.7</td>\n",
       "      <td>4339</td>\n",
       "      <td>9345.00</td>\n",
       "      <td>2.150</td>\n",
       "      <td>yes</td>\n",
       "    </tr>\n",
       "    <tr>\n",
       "      <th>25</th>\n",
       "      <td>1999</td>\n",
       "      <td>Kharif</td>\n",
       "      <td>Rice</td>\n",
       "      <td>May-July</td>\n",
       "      <td>December-April</td>\n",
       "      <td>red soil</td>\n",
       "      <td>5.0-8.0</td>\n",
       "      <td>35</td>\n",
       "      <td>35</td>\n",
       "      <td>34.4</td>\n",
       "      <td>...</td>\n",
       "      <td>32.6</td>\n",
       "      <td>12.0</td>\n",
       "      <td>26.3</td>\n",
       "      <td>12.0</td>\n",
       "      <td>80.6</td>\n",
       "      <td>77.2</td>\n",
       "      <td>93</td>\n",
       "      <td>210.00</td>\n",
       "      <td>2.250</td>\n",
       "      <td>no</td>\n",
       "    </tr>\n",
       "    <tr>\n",
       "      <th>26</th>\n",
       "      <td>1999</td>\n",
       "      <td>Rabi</td>\n",
       "      <td>Jowar</td>\n",
       "      <td>September-October</td>\n",
       "      <td>January-March</td>\n",
       "      <td>black soil</td>\n",
       "      <td>6.0-7.5</td>\n",
       "      <td>47</td>\n",
       "      <td>45</td>\n",
       "      <td>45.0</td>\n",
       "      <td>...</td>\n",
       "      <td>34.1</td>\n",
       "      <td>19.1</td>\n",
       "      <td>29.1</td>\n",
       "      <td>19.1</td>\n",
       "      <td>1.5</td>\n",
       "      <td>39.3</td>\n",
       "      <td>134368</td>\n",
       "      <td>10766.00</td>\n",
       "      <td>0.080</td>\n",
       "      <td>no</td>\n",
       "    </tr>\n",
       "    <tr>\n",
       "      <th>27</th>\n",
       "      <td>1999</td>\n",
       "      <td>Summer</td>\n",
       "      <td>Jowar</td>\n",
       "      <td>January-March</td>\n",
       "      <td>April-July</td>\n",
       "      <td>black soil</td>\n",
       "      <td>6.0-7.5</td>\n",
       "      <td>47</td>\n",
       "      <td>45</td>\n",
       "      <td>45.0</td>\n",
       "      <td>...</td>\n",
       "      <td>24.0</td>\n",
       "      <td>30.2</td>\n",
       "      <td>19.1</td>\n",
       "      <td>30.2</td>\n",
       "      <td>39.3</td>\n",
       "      <td>3.7</td>\n",
       "      <td>37</td>\n",
       "      <td>98.00</td>\n",
       "      <td>2.640</td>\n",
       "      <td>yes</td>\n",
       "    </tr>\n",
       "    <tr>\n",
       "      <th>28</th>\n",
       "      <td>1999</td>\n",
       "      <td>Summer</td>\n",
       "      <td>Rice</td>\n",
       "      <td>January-March</td>\n",
       "      <td>April-July</td>\n",
       "      <td>red soil</td>\n",
       "      <td>5.0-8.0</td>\n",
       "      <td>35</td>\n",
       "      <td>35</td>\n",
       "      <td>34.4</td>\n",
       "      <td>...</td>\n",
       "      <td>16.4</td>\n",
       "      <td>24.1</td>\n",
       "      <td>10.1</td>\n",
       "      <td>24.1</td>\n",
       "      <td>69.3</td>\n",
       "      <td>89.2</td>\n",
       "      <td>2</td>\n",
       "      <td>7.00</td>\n",
       "      <td>3.500</td>\n",
       "      <td>yes</td>\n",
       "    </tr>\n",
       "    <tr>\n",
       "      <th>29</th>\n",
       "      <td>1999</td>\n",
       "      <td>Kharif</td>\n",
       "      <td>Cotton</td>\n",
       "      <td>May-July</td>\n",
       "      <td>December-April</td>\n",
       "      <td>red soil</td>\n",
       "      <td>7.0-8.0</td>\n",
       "      <td>7</td>\n",
       "      <td>14</td>\n",
       "      <td>11.0</td>\n",
       "      <td>...</td>\n",
       "      <td>22.0</td>\n",
       "      <td>1.0</td>\n",
       "      <td>14.8</td>\n",
       "      <td>1.0</td>\n",
       "      <td>92.3</td>\n",
       "      <td>29.2</td>\n",
       "      <td>7315</td>\n",
       "      <td>12172.00</td>\n",
       "      <td>1.660</td>\n",
       "      <td>yes</td>\n",
       "    </tr>\n",
       "    <tr>\n",
       "      <th>...</th>\n",
       "      <td>...</td>\n",
       "      <td>...</td>\n",
       "      <td>...</td>\n",
       "      <td>...</td>\n",
       "      <td>...</td>\n",
       "      <td>...</td>\n",
       "      <td>...</td>\n",
       "      <td>...</td>\n",
       "      <td>...</td>\n",
       "      <td>...</td>\n",
       "      <td>...</td>\n",
       "      <td>...</td>\n",
       "      <td>...</td>\n",
       "      <td>...</td>\n",
       "      <td>...</td>\n",
       "      <td>...</td>\n",
       "      <td>...</td>\n",
       "      <td>...</td>\n",
       "      <td>...</td>\n",
       "      <td>...</td>\n",
       "      <td>...</td>\n",
       "    </tr>\n",
       "    <tr>\n",
       "      <th>315</th>\n",
       "      <td>2014</td>\n",
       "      <td>Rabi</td>\n",
       "      <td>Jowar</td>\n",
       "      <td>September-October</td>\n",
       "      <td>January-March</td>\n",
       "      <td>black soil</td>\n",
       "      <td>6.0-7.5</td>\n",
       "      <td>47</td>\n",
       "      <td>45</td>\n",
       "      <td>45.0</td>\n",
       "      <td>...</td>\n",
       "      <td>34.1</td>\n",
       "      <td>19.1</td>\n",
       "      <td>29.1</td>\n",
       "      <td>19.1</td>\n",
       "      <td>1.5</td>\n",
       "      <td>39.3</td>\n",
       "      <td>152540</td>\n",
       "      <td>120840.00</td>\n",
       "      <td>0.792</td>\n",
       "      <td>no</td>\n",
       "    </tr>\n",
       "    <tr>\n",
       "      <th>316</th>\n",
       "      <td>2014</td>\n",
       "      <td>Kharif</td>\n",
       "      <td>Cotton</td>\n",
       "      <td>May-July</td>\n",
       "      <td>December-April</td>\n",
       "      <td>black soil</td>\n",
       "      <td>7.0-8.0</td>\n",
       "      <td>7</td>\n",
       "      <td>14</td>\n",
       "      <td>11.0</td>\n",
       "      <td>...</td>\n",
       "      <td>22.0</td>\n",
       "      <td>1.0</td>\n",
       "      <td>14.8</td>\n",
       "      <td>1.0</td>\n",
       "      <td>92.3</td>\n",
       "      <td>29.2</td>\n",
       "      <td>11979</td>\n",
       "      <td>18434.00</td>\n",
       "      <td>1.538</td>\n",
       "      <td>no</td>\n",
       "    </tr>\n",
       "    <tr>\n",
       "      <th>317</th>\n",
       "      <td>2014</td>\n",
       "      <td>Kharif</td>\n",
       "      <td>Jowar</td>\n",
       "      <td>May-July</td>\n",
       "      <td>September-December</td>\n",
       "      <td>black soil</td>\n",
       "      <td>6.0-7.5</td>\n",
       "      <td>47</td>\n",
       "      <td>45</td>\n",
       "      <td>45.0</td>\n",
       "      <td>...</td>\n",
       "      <td>36.7</td>\n",
       "      <td>25.1</td>\n",
       "      <td>31.6</td>\n",
       "      <td>25.1</td>\n",
       "      <td>1.3</td>\n",
       "      <td>9.7</td>\n",
       "      <td>11598</td>\n",
       "      <td>21354.00</td>\n",
       "      <td>1.841</td>\n",
       "      <td>yes</td>\n",
       "    </tr>\n",
       "    <tr>\n",
       "      <th>318</th>\n",
       "      <td>2014</td>\n",
       "      <td>Kharif</td>\n",
       "      <td>Rice</td>\n",
       "      <td>May-July</td>\n",
       "      <td>December-April</td>\n",
       "      <td>red soil</td>\n",
       "      <td>5.0-8.0</td>\n",
       "      <td>35</td>\n",
       "      <td>35</td>\n",
       "      <td>34.4</td>\n",
       "      <td>...</td>\n",
       "      <td>32.6</td>\n",
       "      <td>12.0</td>\n",
       "      <td>26.3</td>\n",
       "      <td>12.0</td>\n",
       "      <td>80.6</td>\n",
       "      <td>77.2</td>\n",
       "      <td>128</td>\n",
       "      <td>202.00</td>\n",
       "      <td>1.570</td>\n",
       "      <td>no</td>\n",
       "    </tr>\n",
       "    <tr>\n",
       "      <th>319</th>\n",
       "      <td>2014</td>\n",
       "      <td>Rabi</td>\n",
       "      <td>Jowar</td>\n",
       "      <td>September-October</td>\n",
       "      <td>January-March</td>\n",
       "      <td>black soil</td>\n",
       "      <td>6.0-7.5</td>\n",
       "      <td>47</td>\n",
       "      <td>45</td>\n",
       "      <td>45.0</td>\n",
       "      <td>...</td>\n",
       "      <td>34.1</td>\n",
       "      <td>19.1</td>\n",
       "      <td>29.1</td>\n",
       "      <td>19.1</td>\n",
       "      <td>1.5</td>\n",
       "      <td>39.3</td>\n",
       "      <td>160974</td>\n",
       "      <td>147679.00</td>\n",
       "      <td>0.917</td>\n",
       "      <td>yes</td>\n",
       "    </tr>\n",
       "    <tr>\n",
       "      <th>320</th>\n",
       "      <td>2014</td>\n",
       "      <td>Kharif</td>\n",
       "      <td>Cotton</td>\n",
       "      <td>May-July</td>\n",
       "      <td>December-April</td>\n",
       "      <td>black soil</td>\n",
       "      <td>7.0-8.0</td>\n",
       "      <td>7</td>\n",
       "      <td>14</td>\n",
       "      <td>11.0</td>\n",
       "      <td>...</td>\n",
       "      <td>22.0</td>\n",
       "      <td>1.0</td>\n",
       "      <td>14.8</td>\n",
       "      <td>1.0</td>\n",
       "      <td>92.3</td>\n",
       "      <td>29.2</td>\n",
       "      <td>15767</td>\n",
       "      <td>23002.00</td>\n",
       "      <td>1.458</td>\n",
       "      <td>no</td>\n",
       "    </tr>\n",
       "    <tr>\n",
       "      <th>321</th>\n",
       "      <td>2014</td>\n",
       "      <td>Kharif</td>\n",
       "      <td>Jowar</td>\n",
       "      <td>May-July</td>\n",
       "      <td>September-December</td>\n",
       "      <td>black soil</td>\n",
       "      <td>6.0-7.5</td>\n",
       "      <td>47</td>\n",
       "      <td>45</td>\n",
       "      <td>45.0</td>\n",
       "      <td>...</td>\n",
       "      <td>36.7</td>\n",
       "      <td>25.1</td>\n",
       "      <td>31.6</td>\n",
       "      <td>25.1</td>\n",
       "      <td>1.3</td>\n",
       "      <td>9.7</td>\n",
       "      <td>11375</td>\n",
       "      <td>22359.00</td>\n",
       "      <td>1.965</td>\n",
       "      <td>yes</td>\n",
       "    </tr>\n",
       "    <tr>\n",
       "      <th>322</th>\n",
       "      <td>2014</td>\n",
       "      <td>Kharif</td>\n",
       "      <td>Rice</td>\n",
       "      <td>May-July</td>\n",
       "      <td>December-April</td>\n",
       "      <td>red soil</td>\n",
       "      <td>5.0-8.0</td>\n",
       "      <td>35</td>\n",
       "      <td>35</td>\n",
       "      <td>34.4</td>\n",
       "      <td>...</td>\n",
       "      <td>32.6</td>\n",
       "      <td>12.0</td>\n",
       "      <td>26.3</td>\n",
       "      <td>12.0</td>\n",
       "      <td>80.6</td>\n",
       "      <td>77.2</td>\n",
       "      <td>171</td>\n",
       "      <td>311.00</td>\n",
       "      <td>1.810</td>\n",
       "      <td>no</td>\n",
       "    </tr>\n",
       "    <tr>\n",
       "      <th>323</th>\n",
       "      <td>2014</td>\n",
       "      <td>Rabi</td>\n",
       "      <td>Jowar</td>\n",
       "      <td>September-October</td>\n",
       "      <td>January-March</td>\n",
       "      <td>black soil</td>\n",
       "      <td>6.0-7.5</td>\n",
       "      <td>47</td>\n",
       "      <td>45</td>\n",
       "      <td>45.0</td>\n",
       "      <td>...</td>\n",
       "      <td>34.1</td>\n",
       "      <td>19.1</td>\n",
       "      <td>29.1</td>\n",
       "      <td>19.1</td>\n",
       "      <td>1.5</td>\n",
       "      <td>39.3</td>\n",
       "      <td>132473</td>\n",
       "      <td>94603.00</td>\n",
       "      <td>0.710</td>\n",
       "      <td>no</td>\n",
       "    </tr>\n",
       "    <tr>\n",
       "      <th>324</th>\n",
       "      <td>2014</td>\n",
       "      <td>Kharif</td>\n",
       "      <td>Cotton</td>\n",
       "      <td>May-July</td>\n",
       "      <td>December-April</td>\n",
       "      <td>black soil</td>\n",
       "      <td>7.0-8.0</td>\n",
       "      <td>7</td>\n",
       "      <td>14</td>\n",
       "      <td>11.0</td>\n",
       "      <td>...</td>\n",
       "      <td>22.0</td>\n",
       "      <td>1.0</td>\n",
       "      <td>14.8</td>\n",
       "      <td>1.0</td>\n",
       "      <td>92.3</td>\n",
       "      <td>29.2</td>\n",
       "      <td>14104</td>\n",
       "      <td>22539.00</td>\n",
       "      <td>1.590</td>\n",
       "      <td>no</td>\n",
       "    </tr>\n",
       "    <tr>\n",
       "      <th>325</th>\n",
       "      <td>2014</td>\n",
       "      <td>Kharif</td>\n",
       "      <td>Jowar</td>\n",
       "      <td>May-July</td>\n",
       "      <td>September-December</td>\n",
       "      <td>black soil</td>\n",
       "      <td>6.0-7.5</td>\n",
       "      <td>47</td>\n",
       "      <td>45</td>\n",
       "      <td>45.0</td>\n",
       "      <td>...</td>\n",
       "      <td>36.7</td>\n",
       "      <td>25.1</td>\n",
       "      <td>31.6</td>\n",
       "      <td>25.1</td>\n",
       "      <td>1.3</td>\n",
       "      <td>9.7</td>\n",
       "      <td>6786</td>\n",
       "      <td>12064.00</td>\n",
       "      <td>1.770</td>\n",
       "      <td>yes</td>\n",
       "    </tr>\n",
       "    <tr>\n",
       "      <th>326</th>\n",
       "      <td>2014</td>\n",
       "      <td>Kharif</td>\n",
       "      <td>Rice</td>\n",
       "      <td>May-July</td>\n",
       "      <td>December-April</td>\n",
       "      <td>red soil</td>\n",
       "      <td>5.0-8.0</td>\n",
       "      <td>35</td>\n",
       "      <td>35</td>\n",
       "      <td>34.4</td>\n",
       "      <td>...</td>\n",
       "      <td>32.6</td>\n",
       "      <td>12.0</td>\n",
       "      <td>26.3</td>\n",
       "      <td>12.0</td>\n",
       "      <td>80.6</td>\n",
       "      <td>77.2</td>\n",
       "      <td>171</td>\n",
       "      <td>411.00</td>\n",
       "      <td>2.400</td>\n",
       "      <td>yes</td>\n",
       "    </tr>\n",
       "    <tr>\n",
       "      <th>327</th>\n",
       "      <td>2014</td>\n",
       "      <td>Rabi</td>\n",
       "      <td>Jowar</td>\n",
       "      <td>September-October</td>\n",
       "      <td>January-March</td>\n",
       "      <td>black soil</td>\n",
       "      <td>6.0-7.5</td>\n",
       "      <td>47</td>\n",
       "      <td>45</td>\n",
       "      <td>45.0</td>\n",
       "      <td>...</td>\n",
       "      <td>34.1</td>\n",
       "      <td>19.1</td>\n",
       "      <td>29.1</td>\n",
       "      <td>19.1</td>\n",
       "      <td>1.5</td>\n",
       "      <td>39.3</td>\n",
       "      <td>170489</td>\n",
       "      <td>125015.00</td>\n",
       "      <td>0.730</td>\n",
       "      <td>no</td>\n",
       "    </tr>\n",
       "    <tr>\n",
       "      <th>328</th>\n",
       "      <td>2014</td>\n",
       "      <td>Summer</td>\n",
       "      <td>Rice</td>\n",
       "      <td>January-March</td>\n",
       "      <td>April-July</td>\n",
       "      <td>red soil</td>\n",
       "      <td>5.0-8.0</td>\n",
       "      <td>35</td>\n",
       "      <td>35</td>\n",
       "      <td>34.4</td>\n",
       "      <td>...</td>\n",
       "      <td>16.4</td>\n",
       "      <td>24.1</td>\n",
       "      <td>10.1</td>\n",
       "      <td>24.1</td>\n",
       "      <td>69.3</td>\n",
       "      <td>89.2</td>\n",
       "      <td>13</td>\n",
       "      <td>19.00</td>\n",
       "      <td>1.460</td>\n",
       "      <td>no</td>\n",
       "    </tr>\n",
       "    <tr>\n",
       "      <th>329</th>\n",
       "      <td>2015</td>\n",
       "      <td>Kharif</td>\n",
       "      <td>Cotton</td>\n",
       "      <td>May-July</td>\n",
       "      <td>December-April</td>\n",
       "      <td>black soil</td>\n",
       "      <td>7.0-8.0</td>\n",
       "      <td>7</td>\n",
       "      <td>14</td>\n",
       "      <td>11.0</td>\n",
       "      <td>...</td>\n",
       "      <td>22.0</td>\n",
       "      <td>1.0</td>\n",
       "      <td>14.8</td>\n",
       "      <td>1.0</td>\n",
       "      <td>92.3</td>\n",
       "      <td>29.2</td>\n",
       "      <td>3511</td>\n",
       "      <td>5149.00</td>\n",
       "      <td>1.460</td>\n",
       "      <td>no</td>\n",
       "    </tr>\n",
       "    <tr>\n",
       "      <th>330</th>\n",
       "      <td>2015</td>\n",
       "      <td>Kharif</td>\n",
       "      <td>Jowar</td>\n",
       "      <td>May-July</td>\n",
       "      <td>September-December</td>\n",
       "      <td>black soil</td>\n",
       "      <td>6.0-7.5</td>\n",
       "      <td>47</td>\n",
       "      <td>45</td>\n",
       "      <td>45.0</td>\n",
       "      <td>...</td>\n",
       "      <td>36.7</td>\n",
       "      <td>25.1</td>\n",
       "      <td>31.6</td>\n",
       "      <td>25.1</td>\n",
       "      <td>1.3</td>\n",
       "      <td>9.7</td>\n",
       "      <td>5551</td>\n",
       "      <td>9005.00</td>\n",
       "      <td>1.620</td>\n",
       "      <td>yes</td>\n",
       "    </tr>\n",
       "    <tr>\n",
       "      <th>331</th>\n",
       "      <td>2015</td>\n",
       "      <td>Kharif</td>\n",
       "      <td>Rice</td>\n",
       "      <td>May-July</td>\n",
       "      <td>December-April</td>\n",
       "      <td>red soil</td>\n",
       "      <td>5.0-8.0</td>\n",
       "      <td>35</td>\n",
       "      <td>35</td>\n",
       "      <td>34.4</td>\n",
       "      <td>...</td>\n",
       "      <td>32.6</td>\n",
       "      <td>12.0</td>\n",
       "      <td>26.3</td>\n",
       "      <td>12.0</td>\n",
       "      <td>80.6</td>\n",
       "      <td>77.2</td>\n",
       "      <td>112</td>\n",
       "      <td>230.00</td>\n",
       "      <td>2.050</td>\n",
       "      <td>yes</td>\n",
       "    </tr>\n",
       "    <tr>\n",
       "      <th>332</th>\n",
       "      <td>2015</td>\n",
       "      <td>Rabi</td>\n",
       "      <td>Jowar</td>\n",
       "      <td>September-October</td>\n",
       "      <td>January-March</td>\n",
       "      <td>black soil</td>\n",
       "      <td>6.0-7.5</td>\n",
       "      <td>47</td>\n",
       "      <td>45</td>\n",
       "      <td>45.0</td>\n",
       "      <td>...</td>\n",
       "      <td>34.1</td>\n",
       "      <td>19.1</td>\n",
       "      <td>29.1</td>\n",
       "      <td>19.1</td>\n",
       "      <td>1.5</td>\n",
       "      <td>39.3</td>\n",
       "      <td>157259</td>\n",
       "      <td>98880.00</td>\n",
       "      <td>0.628</td>\n",
       "      <td>no</td>\n",
       "    </tr>\n",
       "    <tr>\n",
       "      <th>333</th>\n",
       "      <td>2015</td>\n",
       "      <td>Summer</td>\n",
       "      <td>Jowar</td>\n",
       "      <td>January-March</td>\n",
       "      <td>April-July</td>\n",
       "      <td>black soil</td>\n",
       "      <td>6.0-7.5</td>\n",
       "      <td>47</td>\n",
       "      <td>45</td>\n",
       "      <td>45.0</td>\n",
       "      <td>...</td>\n",
       "      <td>24.0</td>\n",
       "      <td>30.2</td>\n",
       "      <td>19.1</td>\n",
       "      <td>30.2</td>\n",
       "      <td>39.3</td>\n",
       "      <td>3.7</td>\n",
       "      <td>2</td>\n",
       "      <td>2.00</td>\n",
       "      <td>1.000</td>\n",
       "      <td>no</td>\n",
       "    </tr>\n",
       "    <tr>\n",
       "      <th>334</th>\n",
       "      <td>2015</td>\n",
       "      <td>Summer</td>\n",
       "      <td>Rice</td>\n",
       "      <td>January-March</td>\n",
       "      <td>April-July</td>\n",
       "      <td>red soil</td>\n",
       "      <td>5.0-8.0</td>\n",
       "      <td>35</td>\n",
       "      <td>35</td>\n",
       "      <td>34.4</td>\n",
       "      <td>...</td>\n",
       "      <td>16.4</td>\n",
       "      <td>24.1</td>\n",
       "      <td>10.1</td>\n",
       "      <td>24.1</td>\n",
       "      <td>69.3</td>\n",
       "      <td>89.2</td>\n",
       "      <td>15</td>\n",
       "      <td>16.00</td>\n",
       "      <td>1.060</td>\n",
       "      <td>no</td>\n",
       "    </tr>\n",
       "    <tr>\n",
       "      <th>335</th>\n",
       "      <td>2015</td>\n",
       "      <td>Kharif</td>\n",
       "      <td>Cotton</td>\n",
       "      <td>May-July</td>\n",
       "      <td>December-April</td>\n",
       "      <td>black soil</td>\n",
       "      <td>7.0-8.0</td>\n",
       "      <td>7</td>\n",
       "      <td>14</td>\n",
       "      <td>11.0</td>\n",
       "      <td>...</td>\n",
       "      <td>22.0</td>\n",
       "      <td>1.0</td>\n",
       "      <td>14.8</td>\n",
       "      <td>1.0</td>\n",
       "      <td>92.3</td>\n",
       "      <td>29.2</td>\n",
       "      <td>3226</td>\n",
       "      <td>6374.00</td>\n",
       "      <td>1.970</td>\n",
       "      <td>no</td>\n",
       "    </tr>\n",
       "    <tr>\n",
       "      <th>336</th>\n",
       "      <td>2015</td>\n",
       "      <td>Kharif</td>\n",
       "      <td>Jowar</td>\n",
       "      <td>May-July</td>\n",
       "      <td>September-December</td>\n",
       "      <td>black soil</td>\n",
       "      <td>6.0-7.5</td>\n",
       "      <td>47</td>\n",
       "      <td>45</td>\n",
       "      <td>45.0</td>\n",
       "      <td>...</td>\n",
       "      <td>36.7</td>\n",
       "      <td>25.1</td>\n",
       "      <td>31.6</td>\n",
       "      <td>25.1</td>\n",
       "      <td>1.3</td>\n",
       "      <td>9.7</td>\n",
       "      <td>4339</td>\n",
       "      <td>9345.00</td>\n",
       "      <td>2.150</td>\n",
       "      <td>yes</td>\n",
       "    </tr>\n",
       "    <tr>\n",
       "      <th>337</th>\n",
       "      <td>2015</td>\n",
       "      <td>Kharif</td>\n",
       "      <td>Rice</td>\n",
       "      <td>May-July</td>\n",
       "      <td>December-April</td>\n",
       "      <td>red soil</td>\n",
       "      <td>5.0-8.0</td>\n",
       "      <td>35</td>\n",
       "      <td>35</td>\n",
       "      <td>34.4</td>\n",
       "      <td>...</td>\n",
       "      <td>32.6</td>\n",
       "      <td>12.0</td>\n",
       "      <td>26.3</td>\n",
       "      <td>12.0</td>\n",
       "      <td>80.6</td>\n",
       "      <td>77.2</td>\n",
       "      <td>93</td>\n",
       "      <td>210.00</td>\n",
       "      <td>2.250</td>\n",
       "      <td>no</td>\n",
       "    </tr>\n",
       "    <tr>\n",
       "      <th>338</th>\n",
       "      <td>2015</td>\n",
       "      <td>Rabi</td>\n",
       "      <td>Jowar</td>\n",
       "      <td>September-October</td>\n",
       "      <td>January-March</td>\n",
       "      <td>black soil</td>\n",
       "      <td>6.0-7.5</td>\n",
       "      <td>47</td>\n",
       "      <td>45</td>\n",
       "      <td>45.0</td>\n",
       "      <td>...</td>\n",
       "      <td>34.1</td>\n",
       "      <td>19.1</td>\n",
       "      <td>29.1</td>\n",
       "      <td>19.1</td>\n",
       "      <td>1.5</td>\n",
       "      <td>39.3</td>\n",
       "      <td>134368</td>\n",
       "      <td>10766.00</td>\n",
       "      <td>0.080</td>\n",
       "      <td>no</td>\n",
       "    </tr>\n",
       "    <tr>\n",
       "      <th>339</th>\n",
       "      <td>2015</td>\n",
       "      <td>Summer</td>\n",
       "      <td>Jowar</td>\n",
       "      <td>January-March</td>\n",
       "      <td>April-July</td>\n",
       "      <td>black soil</td>\n",
       "      <td>6.0-7.5</td>\n",
       "      <td>47</td>\n",
       "      <td>45</td>\n",
       "      <td>45.0</td>\n",
       "      <td>...</td>\n",
       "      <td>24.0</td>\n",
       "      <td>30.2</td>\n",
       "      <td>19.1</td>\n",
       "      <td>30.2</td>\n",
       "      <td>39.3</td>\n",
       "      <td>3.7</td>\n",
       "      <td>37</td>\n",
       "      <td>98.00</td>\n",
       "      <td>2.640</td>\n",
       "      <td>yes</td>\n",
       "    </tr>\n",
       "    <tr>\n",
       "      <th>340</th>\n",
       "      <td>2015</td>\n",
       "      <td>Summer</td>\n",
       "      <td>Rice</td>\n",
       "      <td>January-March</td>\n",
       "      <td>April-July</td>\n",
       "      <td>red soil</td>\n",
       "      <td>5.0-8.0</td>\n",
       "      <td>35</td>\n",
       "      <td>35</td>\n",
       "      <td>34.4</td>\n",
       "      <td>...</td>\n",
       "      <td>16.4</td>\n",
       "      <td>24.1</td>\n",
       "      <td>10.1</td>\n",
       "      <td>24.1</td>\n",
       "      <td>69.3</td>\n",
       "      <td>89.2</td>\n",
       "      <td>2</td>\n",
       "      <td>7.00</td>\n",
       "      <td>3.500</td>\n",
       "      <td>yes</td>\n",
       "    </tr>\n",
       "    <tr>\n",
       "      <th>341</th>\n",
       "      <td>2015</td>\n",
       "      <td>Kharif</td>\n",
       "      <td>Cotton</td>\n",
       "      <td>May-July</td>\n",
       "      <td>December-April</td>\n",
       "      <td>red soil</td>\n",
       "      <td>7.0-8.0</td>\n",
       "      <td>7</td>\n",
       "      <td>14</td>\n",
       "      <td>11.0</td>\n",
       "      <td>...</td>\n",
       "      <td>22.0</td>\n",
       "      <td>1.0</td>\n",
       "      <td>14.8</td>\n",
       "      <td>1.0</td>\n",
       "      <td>92.3</td>\n",
       "      <td>29.2</td>\n",
       "      <td>7315</td>\n",
       "      <td>12172.00</td>\n",
       "      <td>1.660</td>\n",
       "      <td>yes</td>\n",
       "    </tr>\n",
       "    <tr>\n",
       "      <th>342</th>\n",
       "      <td>2015</td>\n",
       "      <td>Kharif</td>\n",
       "      <td>Jowar</td>\n",
       "      <td>May-July</td>\n",
       "      <td>September-December</td>\n",
       "      <td>black soil</td>\n",
       "      <td>6.0-7.5</td>\n",
       "      <td>47</td>\n",
       "      <td>45</td>\n",
       "      <td>45.0</td>\n",
       "      <td>...</td>\n",
       "      <td>36.7</td>\n",
       "      <td>25.1</td>\n",
       "      <td>31.6</td>\n",
       "      <td>25.1</td>\n",
       "      <td>1.3</td>\n",
       "      <td>9.7</td>\n",
       "      <td>11225</td>\n",
       "      <td>20951.00</td>\n",
       "      <td>1.860</td>\n",
       "      <td>yes</td>\n",
       "    </tr>\n",
       "    <tr>\n",
       "      <th>343</th>\n",
       "      <td>2015</td>\n",
       "      <td>Kharif</td>\n",
       "      <td>Rice</td>\n",
       "      <td>May-July</td>\n",
       "      <td>December-April</td>\n",
       "      <td>red soil</td>\n",
       "      <td>5.0-8.0</td>\n",
       "      <td>35</td>\n",
       "      <td>35</td>\n",
       "      <td>34.4</td>\n",
       "      <td>...</td>\n",
       "      <td>32.6</td>\n",
       "      <td>12.0</td>\n",
       "      <td>26.3</td>\n",
       "      <td>12.0</td>\n",
       "      <td>80.6</td>\n",
       "      <td>77.2</td>\n",
       "      <td>64</td>\n",
       "      <td>178.75</td>\n",
       "      <td>2.790</td>\n",
       "      <td>yes</td>\n",
       "    </tr>\n",
       "    <tr>\n",
       "      <th>344</th>\n",
       "      <td>2015</td>\n",
       "      <td>Rabi</td>\n",
       "      <td>Jowar</td>\n",
       "      <td>September-October</td>\n",
       "      <td>January-March</td>\n",
       "      <td>black soil</td>\n",
       "      <td>6.0-7.5</td>\n",
       "      <td>47</td>\n",
       "      <td>45</td>\n",
       "      <td>45.0</td>\n",
       "      <td>...</td>\n",
       "      <td>34.1</td>\n",
       "      <td>19.1</td>\n",
       "      <td>29.1</td>\n",
       "      <td>19.1</td>\n",
       "      <td>1.5</td>\n",
       "      <td>39.3</td>\n",
       "      <td>144349</td>\n",
       "      <td>100053.00</td>\n",
       "      <td>0.690</td>\n",
       "      <td>no</td>\n",
       "    </tr>\n",
       "  </tbody>\n",
       "</table>\n",
       "<p>345 rows × 23 columns</p>\n",
       "</div>"
      ],
      "text/plain": [
       "     year  season    crop   Period of sowing period of harvesting   Soil Type  \\\n",
       "0    1998  Kharif   Jowar           May-July   September-December  black soil   \n",
       "1    1998  Kharif  Cotton           May-July       December-April  black soil   \n",
       "2    1998  Kharif    Rice      May-September      October-January    red soil   \n",
       "3    1998    Rabi   Jowar  September-October        January-March  black soil   \n",
       "4    1998  Kharif  Cotton           May-July       December-April  black soil   \n",
       "5    1998  Kharif   Jowar           May-July   September-December  black soil   \n",
       "6    1998  Kharif    Rice           May-July       December-April    red soil   \n",
       "7    1998    Rabi   Jowar  September-October        January-March  black soil   \n",
       "8    1998  Kharif  Cotton           May-July       December-April  black soil   \n",
       "9    1998  Kharif   Jowar           May-July   September-December  black soil   \n",
       "10   1998  Kharif    Rice           May-July       December-April    red soil   \n",
       "11   1998    Rabi   Jowar  September-October        January-March  black soil   \n",
       "12   1998  Kharif  Cotton           May-July       December-April  black soil   \n",
       "13   1998  Kharif   Jowar           May-July   September-December  black soil   \n",
       "14   1998  Kharif    Rice           May-July       December-April    red soil   \n",
       "15   1998    Rabi   Jowar  September-October        January-March  black soil   \n",
       "16   1998  Summer    Rice      January-March           April-July    red soil   \n",
       "17   1999  Kharif  Cotton           May-July       December-April  black soil   \n",
       "18   1999  Kharif   Jowar           May-July   September-December  black soil   \n",
       "19   1999  Kharif    Rice           May-July       December-April    red soil   \n",
       "20   1999    Rabi   Jowar  September-October        January-March  black soil   \n",
       "21   1999  Summer   Jowar      January-March           April-July  black soil   \n",
       "22   1999  Summer    Rice      January-March           April-July    red soil   \n",
       "23   1999  Kharif  Cotton           May-July       December-April  black soil   \n",
       "24   1999  Kharif   Jowar           May-July   September-December  black soil   \n",
       "25   1999  Kharif    Rice           May-July       December-April    red soil   \n",
       "26   1999    Rabi   Jowar  September-October        January-March  black soil   \n",
       "27   1999  Summer   Jowar      January-March           April-July  black soil   \n",
       "28   1999  Summer    Rice      January-March           April-July    red soil   \n",
       "29   1999  Kharif  Cotton           May-July       December-April    red soil   \n",
       "..    ...     ...     ...                ...                  ...         ...   \n",
       "315  2014    Rabi   Jowar  September-October        January-March  black soil   \n",
       "316  2014  Kharif  Cotton           May-July       December-April  black soil   \n",
       "317  2014  Kharif   Jowar           May-July   September-December  black soil   \n",
       "318  2014  Kharif    Rice           May-July       December-April    red soil   \n",
       "319  2014    Rabi   Jowar  September-October        January-March  black soil   \n",
       "320  2014  Kharif  Cotton           May-July       December-April  black soil   \n",
       "321  2014  Kharif   Jowar           May-July   September-December  black soil   \n",
       "322  2014  Kharif    Rice           May-July       December-April    red soil   \n",
       "323  2014    Rabi   Jowar  September-October        January-March  black soil   \n",
       "324  2014  Kharif  Cotton           May-July       December-April  black soil   \n",
       "325  2014  Kharif   Jowar           May-July   September-December  black soil   \n",
       "326  2014  Kharif    Rice           May-July       December-April    red soil   \n",
       "327  2014    Rabi   Jowar  September-October        January-March  black soil   \n",
       "328  2014  Summer    Rice      January-March           April-July    red soil   \n",
       "329  2015  Kharif  Cotton           May-July       December-April  black soil   \n",
       "330  2015  Kharif   Jowar           May-July   September-December  black soil   \n",
       "331  2015  Kharif    Rice           May-July       December-April    red soil   \n",
       "332  2015    Rabi   Jowar  September-October        January-March  black soil   \n",
       "333  2015  Summer   Jowar      January-March           April-July  black soil   \n",
       "334  2015  Summer    Rice      January-March           April-July    red soil   \n",
       "335  2015  Kharif  Cotton           May-July       December-April  black soil   \n",
       "336  2015  Kharif   Jowar           May-July   September-December  black soil   \n",
       "337  2015  Kharif    Rice           May-July       December-April    red soil   \n",
       "338  2015    Rabi   Jowar  September-October        January-March  black soil   \n",
       "339  2015  Summer   Jowar      January-March           April-July  black soil   \n",
       "340  2015  Summer    Rice      January-March           April-July    red soil   \n",
       "341  2015  Kharif  Cotton           May-July       December-April    red soil   \n",
       "342  2015  Kharif   Jowar           May-July   September-December  black soil   \n",
       "343  2015  Kharif    Rice           May-July       December-April    red soil   \n",
       "344  2015    Rabi   Jowar  September-October        January-March  black soil   \n",
       "\n",
       "    Ph-value  Nitrogen(%)  Phosphorus(%)  Pottasium(%)      ...       \\\n",
       "0    6.0-7.5           47             45          45.0      ...        \n",
       "1    7.0-8.0            7             14          11.0      ...        \n",
       "2    5.0-8.0           35             35          34.4      ...        \n",
       "3    6.0-7.5           47             45          45.0      ...        \n",
       "4    7.0-8.0            7             14          11.0      ...        \n",
       "5    6.0-7.5           47             45          45.0      ...        \n",
       "6    5.0-8.0           35             35          34.4      ...        \n",
       "7    6.0-7.5           47             45          45.0      ...        \n",
       "8    7.0-8.0            7             14          11.0      ...        \n",
       "9    6.0-7.5           47             45          45.0      ...        \n",
       "10   5.0-8.0           35             35          34.4      ...        \n",
       "11   6.0-7.5           47             45          45.0      ...        \n",
       "12   7.0-8.0            7             14          11.0      ...        \n",
       "13   6.0-7.5           47             45          45.0      ...        \n",
       "14   5.0-8.0           35             35          34.4      ...        \n",
       "15   6.0-7.5           47             45          45.0      ...        \n",
       "16   5.0-8.0           35             35          34.4      ...        \n",
       "17   7.0-8.0            7             14          11.0      ...        \n",
       "18   6.0-7.5           47             45          45.0      ...        \n",
       "19   5.0-8.0           35             35          34.4      ...        \n",
       "20   6.0-7.5           47             45          45.0      ...        \n",
       "21   6.0-7.5           47             45          45.0      ...        \n",
       "22   5.0-8.0           35             35          34.4      ...        \n",
       "23   7.0-8.0            7             14          11.0      ...        \n",
       "24   6.0-7.5           47             45          45.0      ...        \n",
       "25   5.0-8.0           35             35          34.4      ...        \n",
       "26   6.0-7.5           47             45          45.0      ...        \n",
       "27   6.0-7.5           47             45          45.0      ...        \n",
       "28   5.0-8.0           35             35          34.4      ...        \n",
       "29   7.0-8.0            7             14          11.0      ...        \n",
       "..       ...          ...            ...           ...      ...        \n",
       "315  6.0-7.5           47             45          45.0      ...        \n",
       "316  7.0-8.0            7             14          11.0      ...        \n",
       "317  6.0-7.5           47             45          45.0      ...        \n",
       "318  5.0-8.0           35             35          34.4      ...        \n",
       "319  6.0-7.5           47             45          45.0      ...        \n",
       "320  7.0-8.0            7             14          11.0      ...        \n",
       "321  6.0-7.5           47             45          45.0      ...        \n",
       "322  5.0-8.0           35             35          34.4      ...        \n",
       "323  6.0-7.5           47             45          45.0      ...        \n",
       "324  7.0-8.0            7             14          11.0      ...        \n",
       "325  6.0-7.5           47             45          45.0      ...        \n",
       "326  5.0-8.0           35             35          34.4      ...        \n",
       "327  6.0-7.5           47             45          45.0      ...        \n",
       "328  5.0-8.0           35             35          34.4      ...        \n",
       "329  7.0-8.0            7             14          11.0      ...        \n",
       "330  6.0-7.5           47             45          45.0      ...        \n",
       "331  5.0-8.0           35             35          34.4      ...        \n",
       "332  6.0-7.5           47             45          45.0      ...        \n",
       "333  6.0-7.5           47             45          45.0      ...        \n",
       "334  5.0-8.0           35             35          34.4      ...        \n",
       "335  7.0-8.0            7             14          11.0      ...        \n",
       "336  6.0-7.5           47             45          45.0      ...        \n",
       "337  5.0-8.0           35             35          34.4      ...        \n",
       "338  6.0-7.5           47             45          45.0      ...        \n",
       "339  6.0-7.5           47             45          45.0      ...        \n",
       "340  5.0-8.0           35             35          34.4      ...        \n",
       "341  7.0-8.0            7             14          11.0      ...        \n",
       "342  6.0-7.5           47             45          45.0      ...        \n",
       "343  5.0-8.0           35             35          34.4      ...        \n",
       "344  6.0-7.5           47             45          45.0      ...        \n",
       "\n",
       "    Max Temp in Sowing  Max Temp in Harvesting  Avg Temp in Sowing  \\\n",
       "0                 36.7                    25.1                31.6   \n",
       "1                 22.0                     1.0                14.8   \n",
       "2                 32.6                    12.0                26.3   \n",
       "3                 34.1                    19.1                29.1   \n",
       "4                 22.0                     1.0                14.8   \n",
       "5                 36.7                    25.1                31.6   \n",
       "6                 32.6                    12.0                26.3   \n",
       "7                 34.1                    19.1                29.1   \n",
       "8                 22.0                     1.0                14.8   \n",
       "9                 36.7                    25.1                31.6   \n",
       "10                32.6                    12.0                26.3   \n",
       "11                34.1                    19.1                29.1   \n",
       "12                22.0                     1.0                14.8   \n",
       "13                36.7                    25.1                31.6   \n",
       "14                32.6                    12.0                26.3   \n",
       "15                34.1                    19.1                29.1   \n",
       "16                16.4                    24.1                10.1   \n",
       "17                22.0                     1.0                14.8   \n",
       "18                36.7                    25.1                31.6   \n",
       "19                32.6                    12.0                26.3   \n",
       "20                34.1                    19.1                29.1   \n",
       "21                24.0                    30.2                19.1   \n",
       "22                16.4                    24.1                10.1   \n",
       "23                22.0                     1.0                14.8   \n",
       "24                36.7                    25.1                31.6   \n",
       "25                32.6                    12.0                26.3   \n",
       "26                34.1                    19.1                29.1   \n",
       "27                24.0                    30.2                19.1   \n",
       "28                16.4                    24.1                10.1   \n",
       "29                22.0                     1.0                14.8   \n",
       "..                 ...                     ...                 ...   \n",
       "315               34.1                    19.1                29.1   \n",
       "316               22.0                     1.0                14.8   \n",
       "317               36.7                    25.1                31.6   \n",
       "318               32.6                    12.0                26.3   \n",
       "319               34.1                    19.1                29.1   \n",
       "320               22.0                     1.0                14.8   \n",
       "321               36.7                    25.1                31.6   \n",
       "322               32.6                    12.0                26.3   \n",
       "323               34.1                    19.1                29.1   \n",
       "324               22.0                     1.0                14.8   \n",
       "325               36.7                    25.1                31.6   \n",
       "326               32.6                    12.0                26.3   \n",
       "327               34.1                    19.1                29.1   \n",
       "328               16.4                    24.1                10.1   \n",
       "329               22.0                     1.0                14.8   \n",
       "330               36.7                    25.1                31.6   \n",
       "331               32.6                    12.0                26.3   \n",
       "332               34.1                    19.1                29.1   \n",
       "333               24.0                    30.2                19.1   \n",
       "334               16.4                    24.1                10.1   \n",
       "335               22.0                     1.0                14.8   \n",
       "336               36.7                    25.1                31.6   \n",
       "337               32.6                    12.0                26.3   \n",
       "338               34.1                    19.1                29.1   \n",
       "339               24.0                    30.2                19.1   \n",
       "340               16.4                    24.1                10.1   \n",
       "341               22.0                     1.0                14.8   \n",
       "342               36.7                    25.1                31.6   \n",
       "343               32.6                    12.0                26.3   \n",
       "344               34.1                    19.1                29.1   \n",
       "\n",
       "     Avg Temp in Harvesting  Avg Rainfall in Sowing  \\\n",
       "0                      25.1                     1.3   \n",
       "1                       1.0                    92.3   \n",
       "2                      12.0                    80.6   \n",
       "3                      19.1                     1.5   \n",
       "4                       1.0                    92.3   \n",
       "5                      25.1                     1.3   \n",
       "6                      12.0                    80.6   \n",
       "7                      19.1                     1.5   \n",
       "8                       1.0                    92.3   \n",
       "9                      25.1                     1.3   \n",
       "10                     12.0                    80.6   \n",
       "11                     19.1                     1.5   \n",
       "12                      1.0                    92.3   \n",
       "13                     25.1                     1.3   \n",
       "14                     12.0                    80.6   \n",
       "15                     19.1                     1.5   \n",
       "16                     24.1                    69.3   \n",
       "17                      1.0                    92.3   \n",
       "18                     25.1                     1.3   \n",
       "19                     12.0                    80.6   \n",
       "20                     19.1                     1.5   \n",
       "21                     30.2                    39.3   \n",
       "22                     24.1                    69.3   \n",
       "23                      1.0                    92.3   \n",
       "24                     25.1                     1.3   \n",
       "25                     12.0                    80.6   \n",
       "26                     19.1                     1.5   \n",
       "27                     30.2                    39.3   \n",
       "28                     24.1                    69.3   \n",
       "29                      1.0                    92.3   \n",
       "..                      ...                     ...   \n",
       "315                    19.1                     1.5   \n",
       "316                     1.0                    92.3   \n",
       "317                    25.1                     1.3   \n",
       "318                    12.0                    80.6   \n",
       "319                    19.1                     1.5   \n",
       "320                     1.0                    92.3   \n",
       "321                    25.1                     1.3   \n",
       "322                    12.0                    80.6   \n",
       "323                    19.1                     1.5   \n",
       "324                     1.0                    92.3   \n",
       "325                    25.1                     1.3   \n",
       "326                    12.0                    80.6   \n",
       "327                    19.1                     1.5   \n",
       "328                    24.1                    69.3   \n",
       "329                     1.0                    92.3   \n",
       "330                    25.1                     1.3   \n",
       "331                    12.0                    80.6   \n",
       "332                    19.1                     1.5   \n",
       "333                    30.2                    39.3   \n",
       "334                    24.1                    69.3   \n",
       "335                     1.0                    92.3   \n",
       "336                    25.1                     1.3   \n",
       "337                    12.0                    80.6   \n",
       "338                    19.1                     1.5   \n",
       "339                    30.2                    39.3   \n",
       "340                    24.1                    69.3   \n",
       "341                     1.0                    92.3   \n",
       "342                    25.1                     1.3   \n",
       "343                    12.0                    80.6   \n",
       "344                    19.1                     1.5   \n",
       "\n",
       "     Avg Rainfall in Harvesting  area(hectare)  production(Tonnes)  yeild  \\\n",
       "0                           9.7          12363            24855.00  2.010   \n",
       "1                          29.2          15225            22129.00  1.453   \n",
       "2                          77.2            197              316.00  1.604   \n",
       "3                          39.3         152540           120840.00  0.792   \n",
       "4                          29.2          11979            18434.00  1.538   \n",
       "5                           9.7          11598            21354.00  1.841   \n",
       "6                          77.2            128              202.00  1.570   \n",
       "7                          39.3         160974           147679.00  0.917   \n",
       "8                          29.2          15767            23002.00  1.458   \n",
       "9                           9.7          11375            22359.00  1.965   \n",
       "10                         77.2            171              311.00  1.810   \n",
       "11                         39.3         132473            94603.00  0.710   \n",
       "12                         29.2          14104            22539.00  1.590   \n",
       "13                          9.7           6786            12064.00  1.770   \n",
       "14                         77.2            171              411.00  2.400   \n",
       "15                         39.3         170489           125015.00  0.730   \n",
       "16                         89.2             13               19.00  1.460   \n",
       "17                         29.2           3511             5149.00  1.460   \n",
       "18                          9.7           5551             9005.00  1.620   \n",
       "19                         77.2            112              230.00  2.050   \n",
       "20                         39.3         157259            98880.00  0.628   \n",
       "21                          3.7              2                2.00  1.000   \n",
       "22                         89.2             15               16.00  1.060   \n",
       "23                         29.2           3226             6374.00  1.970   \n",
       "24                          9.7           4339             9345.00  2.150   \n",
       "25                         77.2             93              210.00  2.250   \n",
       "26                         39.3         134368            10766.00  0.080   \n",
       "27                          3.7             37               98.00  2.640   \n",
       "28                         89.2              2                7.00  3.500   \n",
       "29                         29.2           7315            12172.00  1.660   \n",
       "..                          ...            ...                 ...    ...   \n",
       "315                        39.3         152540           120840.00  0.792   \n",
       "316                        29.2          11979            18434.00  1.538   \n",
       "317                         9.7          11598            21354.00  1.841   \n",
       "318                        77.2            128              202.00  1.570   \n",
       "319                        39.3         160974           147679.00  0.917   \n",
       "320                        29.2          15767            23002.00  1.458   \n",
       "321                         9.7          11375            22359.00  1.965   \n",
       "322                        77.2            171              311.00  1.810   \n",
       "323                        39.3         132473            94603.00  0.710   \n",
       "324                        29.2          14104            22539.00  1.590   \n",
       "325                         9.7           6786            12064.00  1.770   \n",
       "326                        77.2            171              411.00  2.400   \n",
       "327                        39.3         170489           125015.00  0.730   \n",
       "328                        89.2             13               19.00  1.460   \n",
       "329                        29.2           3511             5149.00  1.460   \n",
       "330                         9.7           5551             9005.00  1.620   \n",
       "331                        77.2            112              230.00  2.050   \n",
       "332                        39.3         157259            98880.00  0.628   \n",
       "333                         3.7              2                2.00  1.000   \n",
       "334                        89.2             15               16.00  1.060   \n",
       "335                        29.2           3226             6374.00  1.970   \n",
       "336                         9.7           4339             9345.00  2.150   \n",
       "337                        77.2             93              210.00  2.250   \n",
       "338                        39.3         134368            10766.00  0.080   \n",
       "339                         3.7             37               98.00  2.640   \n",
       "340                        89.2              2                7.00  3.500   \n",
       "341                        29.2           7315            12172.00  1.660   \n",
       "342                         9.7          11225            20951.00  1.860   \n",
       "343                        77.2             64              178.75  2.790   \n",
       "344                        39.3         144349           100053.00  0.690   \n",
       "\n",
       "     Class labels  \n",
       "0             yes  \n",
       "1              no  \n",
       "2              no  \n",
       "3              no  \n",
       "4              no  \n",
       "5             yes  \n",
       "6              no  \n",
       "7             yes  \n",
       "8              no  \n",
       "9             yes  \n",
       "10             no  \n",
       "11             no  \n",
       "12             no  \n",
       "13            yes  \n",
       "14            yes  \n",
       "15             no  \n",
       "16             no  \n",
       "17             no  \n",
       "18            yes  \n",
       "19            yes  \n",
       "20             no  \n",
       "21             no  \n",
       "22             no  \n",
       "23             no  \n",
       "24            yes  \n",
       "25             no  \n",
       "26             no  \n",
       "27            yes  \n",
       "28            yes  \n",
       "29            yes  \n",
       "..            ...  \n",
       "315            no  \n",
       "316            no  \n",
       "317           yes  \n",
       "318            no  \n",
       "319           yes  \n",
       "320            no  \n",
       "321           yes  \n",
       "322            no  \n",
       "323            no  \n",
       "324            no  \n",
       "325           yes  \n",
       "326           yes  \n",
       "327            no  \n",
       "328            no  \n",
       "329            no  \n",
       "330           yes  \n",
       "331           yes  \n",
       "332            no  \n",
       "333            no  \n",
       "334            no  \n",
       "335            no  \n",
       "336           yes  \n",
       "337            no  \n",
       "338            no  \n",
       "339           yes  \n",
       "340           yes  \n",
       "341           yes  \n",
       "342           yes  \n",
       "343           yes  \n",
       "344            no  \n",
       "\n",
       "[345 rows x 23 columns]"
      ]
     },
     "execution_count": 46,
     "metadata": {},
     "output_type": "execute_result"
    }
   ],
   "source": [
    "df"
   ]
  },
  {
   "cell_type": "code",
   "execution_count": 47,
   "metadata": {},
   "outputs": [],
   "source": [
    "df2=pd.DataFrame(y,columns=['labels'])\n"
   ]
  },
  {
   "cell_type": "code",
   "execution_count": 48,
   "metadata": {},
   "outputs": [],
   "source": [
    "df1=pd.DataFrame(x,columns=['year', 'season', 'crop', 'Period of sowing', 'period of harvesting',\n",
    "       'Soil Type', 'Ph-value', 'Nitrogen(%)', 'Phosphorus(%)', 'Pottasium(%)',\n",
    "       'Water Consumption(mm)', 'Min Temp in Sowing', 'Min Temp in Harvesting',\n",
    "       'Max Temp in Sowing', 'Max Temp in Harvesting', 'Avg Temp in Sowing',\n",
    "       'Avg Temp in Harvesting', 'Avg Rainfall in Sowing',\n",
    "       'Avg Rainfall in Harvesting', 'area(hectare)', 'production(Tonnes)',\n",
    "       'yeild'])"
   ]
  },
  {
   "cell_type": "code",
   "execution_count": 49,
   "metadata": {},
   "outputs": [],
   "source": [
    "#df1.drop(['Avg Temp in Harvesting'],axis=1,inplace=True)"
   ]
  },
  {
   "cell_type": "markdown",
   "metadata": {},
   "source": [
    "#### Feature Selection : "
   ]
  },
  {
   "cell_type": "code",
   "execution_count": 51,
   "metadata": {},
   "outputs": [],
   "source": [
    "#SelectKbest algorithm chi-squared test for Feature Selection :\n",
    "bf=SelectKBest(score_func=chi2,k=10)\n",
    "fit=bf.fit(df1,df2)"
   ]
  },
  {
   "cell_type": "code",
   "execution_count": 52,
   "metadata": {},
   "outputs": [],
   "source": [
    "dfscore=pd.DataFrame(fit.scores_)\n",
    "dfcolumns=pd.DataFrame(df1.columns)"
   ]
  },
  {
   "cell_type": "code",
   "execution_count": 53,
   "metadata": {},
   "outputs": [],
   "source": [
    "featscore=pd.concat([dfcolumns,dfscore],axis=1)\n",
    "featscore.columns=[\"specs\",\"score\"]"
   ]
  },
  {
   "cell_type": "code",
   "execution_count": 54,
   "metadata": {},
   "outputs": [
    {
     "data": {
      "text/plain": [
       "year                            int64\n",
       "season                         object\n",
       "crop                           object\n",
       "Period of sowing               object\n",
       "period of harvesting           object\n",
       "Soil Type                      object\n",
       "Ph-value                       object\n",
       "Nitrogen(%)                     int64\n",
       "Phosphorus(%)                   int64\n",
       "Pottasium(%)                  float64\n",
       "Water Consumption(mm)          object\n",
       "Min Temp in Sowing            float64\n",
       "Min Temp in Harvesting        float64\n",
       "Max Temp in Sowing            float64\n",
       "Max Temp in Harvesting        float64\n",
       "Avg Temp in Sowing            float64\n",
       "Avg Temp in Harvesting        float64\n",
       "Avg Rainfall in Sowing        float64\n",
       "Avg Rainfall in Harvesting    float64\n",
       "area(hectare)                   int64\n",
       "production(Tonnes)            float64\n",
       "yeild                         float64\n",
       "Class labels                   object\n",
       "dtype: object"
      ]
     },
     "execution_count": 54,
     "metadata": {},
     "output_type": "execute_result"
    }
   ],
   "source": [
    "df.dtypes"
   ]
  },
  {
   "cell_type": "code",
   "execution_count": 55,
   "metadata": {},
   "outputs": [
    {
     "name": "stdout",
     "output_type": "stream",
     "text": [
      "                         specs          score\n",
      "19               area(hectare)  608233.646258\n",
      "20          production(Tonnes)   19341.225697\n",
      "17      Avg Rainfall in Sowing     617.509511\n",
      "7                  Nitrogen(%)     296.686323\n",
      "12      Min Temp in Harvesting     285.925111\n",
      "16      Avg Temp in Harvesting     222.759240\n",
      "14      Max Temp in Harvesting     222.759240\n",
      "9                 Pottasium(%)     213.428334\n",
      "8                Phosphorus(%)     171.269426\n",
      "11          Min Temp in Sowing     114.420721\n",
      "15          Avg Temp in Sowing      82.616832\n",
      "13          Max Temp in Sowing      66.499916\n",
      "21                       yeild      36.292679\n",
      "4         period of harvesting      20.423373\n",
      "10       Water Consumption(mm)      19.902292\n",
      "6                     Ph-value      19.902292\n",
      "2                         crop      17.013250\n",
      "1                       season       5.226739\n",
      "18  Avg Rainfall in Harvesting       2.540287\n",
      "5                    Soil Type       2.097791\n",
      "3             Period of sowing       0.005266\n",
      "0                         year       0.000016\n"
     ]
    }
   ],
   "source": [
    "print(featscore.nlargest(25,'score'))"
   ]
  },
  {
   "cell_type": "code",
   "execution_count": 56,
   "metadata": {},
   "outputs": [],
   "source": [
    "#dropping features with less scores affecting the target feature.\n",
    "df1.drop(['year','Period of sowing','Avg Rainfall in Harvesting','season','crop','Ph-value','Water Consumption(mm)','period of harvesting','yeild','Max Temp in Sowing','Min Temp in Sowing'],axis=1,inplace=True)"
   ]
  },
  {
   "cell_type": "code",
   "execution_count": 57,
   "metadata": {},
   "outputs": [
    {
     "data": {
      "text/plain": [
       "(345, 11)"
      ]
     },
     "execution_count": 57,
     "metadata": {},
     "output_type": "execute_result"
    }
   ],
   "source": [
    "df1.shape"
   ]
  },
  {
   "cell_type": "code",
   "execution_count": 58,
   "metadata": {},
   "outputs": [],
   "source": [
    "df=pd.concat([df1,df2],axis=1)"
   ]
  },
  {
   "cell_type": "code",
   "execution_count": 59,
   "metadata": {},
   "outputs": [
    {
     "data": {
      "text/html": [
       "<div>\n",
       "<style scoped>\n",
       "    .dataframe tbody tr th:only-of-type {\n",
       "        vertical-align: middle;\n",
       "    }\n",
       "\n",
       "    .dataframe tbody tr th {\n",
       "        vertical-align: top;\n",
       "    }\n",
       "\n",
       "    .dataframe thead th {\n",
       "        text-align: right;\n",
       "    }\n",
       "</style>\n",
       "<table border=\"1\" class=\"dataframe\">\n",
       "  <thead>\n",
       "    <tr style=\"text-align: right;\">\n",
       "      <th></th>\n",
       "      <th>Soil Type</th>\n",
       "      <th>Nitrogen(%)</th>\n",
       "      <th>Phosphorus(%)</th>\n",
       "      <th>Pottasium(%)</th>\n",
       "      <th>Min Temp in Harvesting</th>\n",
       "      <th>Max Temp in Harvesting</th>\n",
       "      <th>Avg Temp in Sowing</th>\n",
       "      <th>Avg Temp in Harvesting</th>\n",
       "      <th>Avg Rainfall in Sowing</th>\n",
       "      <th>area(hectare)</th>\n",
       "      <th>production(Tonnes)</th>\n",
       "      <th>labels</th>\n",
       "    </tr>\n",
       "  </thead>\n",
       "  <tbody>\n",
       "    <tr>\n",
       "      <th>0</th>\n",
       "      <td>1</td>\n",
       "      <td>47</td>\n",
       "      <td>45</td>\n",
       "      <td>45</td>\n",
       "      <td>20.1</td>\n",
       "      <td>25.1</td>\n",
       "      <td>31.6</td>\n",
       "      <td>25.1</td>\n",
       "      <td>1.3</td>\n",
       "      <td>12363</td>\n",
       "      <td>24855</td>\n",
       "      <td>1</td>\n",
       "    </tr>\n",
       "    <tr>\n",
       "      <th>1</th>\n",
       "      <td>1</td>\n",
       "      <td>7</td>\n",
       "      <td>14</td>\n",
       "      <td>11</td>\n",
       "      <td>0</td>\n",
       "      <td>1</td>\n",
       "      <td>14.8</td>\n",
       "      <td>1</td>\n",
       "      <td>92.3</td>\n",
       "      <td>15225</td>\n",
       "      <td>22129</td>\n",
       "      <td>0</td>\n",
       "    </tr>\n",
       "    <tr>\n",
       "      <th>2</th>\n",
       "      <td>2</td>\n",
       "      <td>35</td>\n",
       "      <td>35</td>\n",
       "      <td>34.4</td>\n",
       "      <td>5.6</td>\n",
       "      <td>12</td>\n",
       "      <td>26.3</td>\n",
       "      <td>12</td>\n",
       "      <td>80.6</td>\n",
       "      <td>197</td>\n",
       "      <td>316</td>\n",
       "      <td>0</td>\n",
       "    </tr>\n",
       "    <tr>\n",
       "      <th>3</th>\n",
       "      <td>1</td>\n",
       "      <td>47</td>\n",
       "      <td>45</td>\n",
       "      <td>45</td>\n",
       "      <td>4.3</td>\n",
       "      <td>19.1</td>\n",
       "      <td>29.1</td>\n",
       "      <td>19.1</td>\n",
       "      <td>1.5</td>\n",
       "      <td>152540</td>\n",
       "      <td>120840</td>\n",
       "      <td>0</td>\n",
       "    </tr>\n",
       "    <tr>\n",
       "      <th>4</th>\n",
       "      <td>1</td>\n",
       "      <td>7</td>\n",
       "      <td>14</td>\n",
       "      <td>11</td>\n",
       "      <td>0</td>\n",
       "      <td>1</td>\n",
       "      <td>14.8</td>\n",
       "      <td>1</td>\n",
       "      <td>92.3</td>\n",
       "      <td>11979</td>\n",
       "      <td>18434</td>\n",
       "      <td>0</td>\n",
       "    </tr>\n",
       "  </tbody>\n",
       "</table>\n",
       "</div>"
      ],
      "text/plain": [
       "  Soil Type Nitrogen(%) Phosphorus(%) Pottasium(%) Min Temp in Harvesting  \\\n",
       "0         1          47            45           45                   20.1   \n",
       "1         1           7            14           11                      0   \n",
       "2         2          35            35         34.4                    5.6   \n",
       "3         1          47            45           45                    4.3   \n",
       "4         1           7            14           11                      0   \n",
       "\n",
       "  Max Temp in Harvesting Avg Temp in Sowing Avg Temp in Harvesting  \\\n",
       "0                   25.1               31.6                   25.1   \n",
       "1                      1               14.8                      1   \n",
       "2                     12               26.3                     12   \n",
       "3                   19.1               29.1                   19.1   \n",
       "4                      1               14.8                      1   \n",
       "\n",
       "  Avg Rainfall in Sowing area(hectare) production(Tonnes)  labels  \n",
       "0                    1.3         12363              24855       1  \n",
       "1                   92.3         15225              22129       0  \n",
       "2                   80.6           197                316       0  \n",
       "3                    1.5        152540             120840       0  \n",
       "4                   92.3         11979              18434       0  "
      ]
     },
     "execution_count": 59,
     "metadata": {},
     "output_type": "execute_result"
    }
   ],
   "source": [
    "df.head()"
   ]
  },
  {
   "cell_type": "code",
   "execution_count": 60,
   "metadata": {},
   "outputs": [],
   "source": [
    "x=df.iloc[:,0:11].values\n",
    "y=df.iloc[:,11].values"
   ]
  },
  {
   "cell_type": "code",
   "execution_count": 61,
   "metadata": {},
   "outputs": [],
   "source": [
    "#Splitting data with Train_test_split method\n",
    "x_train,x_test,y_train,y_test=train_test_split(x,y,test_size=0.2,random_state=42)"
   ]
  },
  {
   "cell_type": "code",
   "execution_count": 63,
   "metadata": {},
   "outputs": [
    {
     "name": "stdout",
     "output_type": "stream",
     "text": [
      "TRAINING DATA\n",
      "X_train Shape :  (276, 11)\n",
      "Y_train Shape :  (276,)\n",
      "**************************************************\n",
      "**************************************************\n",
      "TESTING DATA\n",
      "X_test Shape :  (69, 11)\n",
      "Y_test Shape :  (69,)\n"
     ]
    }
   ],
   "source": [
    "print(\"TRAINING DATA\")\n",
    "print(\"X_train Shape : \",x_train.shape)\n",
    "print(\"Y_train Shape : \",y_train.shape)\n",
    "print(\"*\"*50)\n",
    "print(\"*\"*50)\n",
    "print(\"TESTING DATA\")\n",
    "print(\"X_test Shape : \",x_test.shape)\n",
    "print(\"Y_test Shape : \",y_test.shape)"
   ]
  },
  {
   "cell_type": "code",
   "execution_count": 115,
   "metadata": {},
   "outputs": [],
   "source": [
    "#Standardization for features\n",
    "sc=StandardScaler()"
   ]
  },
  {
   "cell_type": "code",
   "execution_count": 116,
   "metadata": {},
   "outputs": [],
   "source": [
    "x_train=sc.fit_transform(x_train)\n",
    "x_test=sc.transform(x_test)"
   ]
  },
  {
   "cell_type": "markdown",
   "metadata": {},
   "source": [
    "#### Model Building :"
   ]
  },
  {
   "cell_type": "markdown",
   "metadata": {},
   "source": [
    "##### A/B testing :"
   ]
  },
  {
   "cell_type": "code",
   "execution_count": 117,
   "metadata": {},
   "outputs": [],
   "source": [
    "#Logsitic regression implementation\n",
    "lr=LogisticRegression()"
   ]
  },
  {
   "cell_type": "code",
   "execution_count": 118,
   "metadata": {},
   "outputs": [
    {
     "data": {
      "text/plain": [
       "LogisticRegression(C=1.0, class_weight=None, dual=False, fit_intercept=True,\n",
       "          intercept_scaling=1, max_iter=100, multi_class='ovr', n_jobs=1,\n",
       "          penalty='l2', random_state=None, solver='liblinear', tol=0.0001,\n",
       "          verbose=0, warm_start=False)"
      ]
     },
     "execution_count": 118,
     "metadata": {},
     "output_type": "execute_result"
    }
   ],
   "source": [
    "lr.fit(x_train,y_train)"
   ]
  },
  {
   "cell_type": "code",
   "execution_count": 119,
   "metadata": {},
   "outputs": [],
   "source": [
    "y_pred_logistic=lr.predict(x_test)"
   ]
  },
  {
   "cell_type": "code",
   "execution_count": 120,
   "metadata": {},
   "outputs": [
    {
     "data": {
      "text/plain": [
       "0.8115942028985508"
      ]
     },
     "execution_count": 120,
     "metadata": {},
     "output_type": "execute_result"
    }
   ],
   "source": [
    "accuracy_score(y_pred_logistic,y_test)"
   ]
  },
  {
   "cell_type": "code",
   "execution_count": 121,
   "metadata": {},
   "outputs": [],
   "source": [
    "#Support vector machine Implementation\n",
    "svm1=SVC()"
   ]
  },
  {
   "cell_type": "code",
   "execution_count": 122,
   "metadata": {},
   "outputs": [
    {
     "data": {
      "text/plain": [
       "SVC(C=1.0, cache_size=200, class_weight=None, coef0=0.0,\n",
       "  decision_function_shape='ovr', degree=3, gamma='auto', kernel='rbf',\n",
       "  max_iter=-1, probability=False, random_state=None, shrinking=True,\n",
       "  tol=0.001, verbose=False)"
      ]
     },
     "execution_count": 122,
     "metadata": {},
     "output_type": "execute_result"
    }
   ],
   "source": [
    "svm1.fit(x_train,y_train)"
   ]
  },
  {
   "cell_type": "code",
   "execution_count": 123,
   "metadata": {},
   "outputs": [],
   "source": [
    "y_pred_svm=svm1.predict(x_test)"
   ]
  },
  {
   "cell_type": "code",
   "execution_count": 124,
   "metadata": {},
   "outputs": [
    {
     "name": "stdout",
     "output_type": "stream",
     "text": [
      "Accuracy Score: 75.36231884057972 %\n"
     ]
    }
   ],
   "source": [
    "acc_svm=accuracy_score(y_pred_svm,y_test)\n",
    "print(\"Accuracy Score:\",acc_svm*100,\"%\")"
   ]
  },
  {
   "cell_type": "markdown",
   "metadata": {},
   "source": [
    "### Observation :"
   ]
  },
  {
   "cell_type": "markdown",
   "metadata": {},
   "source": [
    "Logistic regression is performimg well than support vector machine.\n",
    "\n",
    "So we will move further with Logistic regression."
   ]
  },
  {
   "cell_type": "code",
   "execution_count": 125,
   "metadata": {},
   "outputs": [],
   "source": [
    "#cross validation\n",
    "folds=10\n",
    "skf=StratifiedKFold(n_splits=folds,shuffle=True,random_state=0)"
   ]
  },
  {
   "cell_type": "code",
   "execution_count": 126,
   "metadata": {},
   "outputs": [
    {
     "data": {
      "text/plain": [
       "StratifiedKFold(n_splits=10, random_state=0, shuffle=True)"
      ]
     },
     "execution_count": 126,
     "metadata": {},
     "output_type": "execute_result"
    }
   ],
   "source": [
    "skf"
   ]
  },
  {
   "cell_type": "markdown",
   "metadata": {},
   "source": [
    "#### Hyper-parameter Tuning"
   ]
  },
  {
   "cell_type": "code",
   "execution_count": 133,
   "metadata": {},
   "outputs": [
    {
     "name": "stdout",
     "output_type": "stream",
     "text": [
      "LogisticRegression(C=25, class_weight='balanced', dual=False,\n",
      "          fit_intercept=True, intercept_scaling=1, max_iter=100,\n",
      "          multi_class='ovr', n_jobs=1, penalty='l2', random_state=None,\n",
      "          solver='liblinear', tol=0.0001, verbose=0, warm_start=False)\n"
     ]
    }
   ],
   "source": [
    "#hyper-parameter tuning with gridsearch-cv\n",
    "grid_values = {'penalty': ['l1', 'l2'],'C':[0.001,0.01,.09,1,25],'class_weight':['balanced'],'max_iter':[100,200]}\n",
    "grid_clf_acc = GridSearchCV(lr, param_grid = grid_values,scoring = 'accuracy',cv=skf)\n",
    "grid_clf_acc.fit(x_train, y_train)\n",
    "\n",
    "print(grid_clf_acc.best_estimator_)\n",
    "\n",
    "y_pred_acc = grid_clf_acc.predict(x_test)"
   ]
  },
  {
   "cell_type": "code",
   "execution_count": 134,
   "metadata": {},
   "outputs": [],
   "source": [
    "lr_optimised=LogisticRegression(C=25, class_weight='balanced', dual=False,\n",
    "          fit_intercept=True, intercept_scaling=1, max_iter=100,\n",
    "          multi_class='ovr', n_jobs=1, penalty='l2', random_state=None,\n",
    "          solver='liblinear', tol=0.0001, verbose=0, warm_start=False)"
   ]
  },
  {
   "cell_type": "code",
   "execution_count": 135,
   "metadata": {},
   "outputs": [
    {
     "data": {
      "text/plain": [
       "LogisticRegression(C=25, class_weight='balanced', dual=False,\n",
       "          fit_intercept=True, intercept_scaling=1, max_iter=100,\n",
       "          multi_class='ovr', n_jobs=1, penalty='l2', random_state=None,\n",
       "          solver='liblinear', tol=0.0001, verbose=0, warm_start=False)"
      ]
     },
     "execution_count": 135,
     "metadata": {},
     "output_type": "execute_result"
    }
   ],
   "source": [
    "lr_optimised.fit(x_train,y_train)"
   ]
  },
  {
   "cell_type": "code",
   "execution_count": 136,
   "metadata": {},
   "outputs": [],
   "source": [
    "y_pred_logistic_optimised=lr.predict(x_test)"
   ]
  },
  {
   "cell_type": "code",
   "execution_count": 148,
   "metadata": {},
   "outputs": [
    {
     "name": "stdout",
     "output_type": "stream",
     "text": [
      "Accuracy score :  81.15942028985508 %\n"
     ]
    }
   ],
   "source": [
    "print(\"Accuracy score : \",accuracy_score(y_pred_logistic,y_test)*100,\"%\")"
   ]
  },
  {
   "cell_type": "code",
   "execution_count": 138,
   "metadata": {},
   "outputs": [],
   "source": [
    "#confusion matrix for optimised model\n",
    "Cn=confusion_matrix(y_test,y_pred_logistic_optimised)"
   ]
  },
  {
   "cell_type": "code",
   "execution_count": 143,
   "metadata": {},
   "outputs": [
    {
     "data": {
      "image/png": "[encoded data removed]",
      "text/plain": [
       "<Figure size 432x288 with 2 Axes>"
      ]
     },
     "metadata": {
      "needs_background": "light"
     },
     "output_type": "display_data"
    }
   ],
   "source": [
    "sns.heatmap(Cn,annot=True)\n",
    "plt.title(\"Confusion matrix for Logistic model\")\n",
    "plt.show()"
   ]
  },
  {
   "cell_type": "markdown",
   "metadata": {},
   "source": [
    "### Observation :"
   ]
  },
  {
   "cell_type": "markdown",
   "metadata": {},
   "source": [
    "1 . After Hyper-parameter tuning,we get an accuracy of 81.15% and is the final model for agriculture dataset."
   ]
  },
  {
   "cell_type": "markdown",
   "metadata": {},
   "source": [
    "--------------------------------------end----------------------------------------------"
   ]
  },
  {
   "cell_type": "code",
   "execution_count": null,
   "metadata": {},
   "outputs": [],
   "source": []
  }
 ],
 "metadata": {
  "kernelspec": {
   "display_name": "Python 3",
   "language": "python",
   "name": "python3"
  },
  "language_info": {
   "codemirror_mode": {
    "name": "ipython",
    "version": 3
   },
   "file_extension": ".py",
   "mimetype": "text/x-python",
   "name": "python",
   "nbconvert_exporter": "python",
   "pygments_lexer": "ipython3",
   "version": "3.7.0"
  }
 },
 "nbformat": 4,
 "nbformat_minor": 2
}
